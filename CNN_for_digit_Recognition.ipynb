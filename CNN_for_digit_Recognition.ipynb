{
  "nbformat": 4,
  "nbformat_minor": 0,
  "metadata": {
    "colab": {
      "provenance": [],
      "toc_visible": true,
      "authorship_tag": "ABX9TyNZ0P0Uo/l+8KGw00Hm4dw9",
      "include_colab_link": true
    },
    "kernelspec": {
      "name": "python3",
      "display_name": "Python 3"
    },
    "language_info": {
      "name": "python"
    },
    "accelerator": "TPU"
  },
  "cells": [
    {
      "cell_type": "markdown",
      "metadata": {
        "id": "view-in-github",
        "colab_type": "text"
      },
      "source": [
        "<a href=\"https://colab.research.google.com/github/agibayrashitnu/Deep-Learning/blob/main/CNN_for_digit_Recognition.ipynb\" target=\"_parent\"><img src=\"https://colab.research.google.com/assets/colab-badge.svg\" alt=\"Open In Colab\"/></a>"
      ]
    },
    {
      "cell_type": "markdown",
      "source": [
        "# Step 1: Installation and Setup\n"
      ],
      "metadata": {
        "id": "MHywZpA-UBSm"
      }
    },
    {
      "cell_type": "code",
      "source": [
        "pip install tensorflow-gpu"
      ],
      "metadata": {
        "colab": {
          "base_uri": "https://localhost:8080/"
        },
        "id": "S-338kpEUEq3",
        "outputId": "54eea910-78f4-4908-8400-9434064d8e81"
      },
      "execution_count": 3,
      "outputs": [
        {
          "output_type": "stream",
          "name": "stdout",
          "text": [
            "Collecting tensorflow-gpu\n",
            "  Downloading tensorflow-gpu-2.12.0.tar.gz (2.6 kB)\n",
            "  \u001b[1;31merror\u001b[0m: \u001b[1msubprocess-exited-with-error\u001b[0m\n",
            "  \n",
            "  \u001b[31m×\u001b[0m \u001b[32mpython setup.py egg_info\u001b[0m did not run successfully.\n",
            "  \u001b[31m│\u001b[0m exit code: \u001b[1;36m1\u001b[0m\n",
            "  \u001b[31m╰─>\u001b[0m See above for output.\n",
            "  \n",
            "  \u001b[1;35mnote\u001b[0m: This error originates from a subprocess, and is likely not a problem with pip.\n",
            "  Preparing metadata (setup.py) ... \u001b[?25l\u001b[?25herror\n",
            "\u001b[1;31merror\u001b[0m: \u001b[1mmetadata-generation-failed\u001b[0m\n",
            "\n",
            "\u001b[31m×\u001b[0m Encountered error while generating package metadata.\n",
            "\u001b[31m╰─>\u001b[0m See above for output.\n",
            "\n",
            "\u001b[1;35mnote\u001b[0m: This is an issue with the package mentioned above, not pip.\n",
            "\u001b[1;36mhint\u001b[0m: See above for details.\n"
          ]
        }
      ]
    },
    {
      "cell_type": "code",
      "source": [
        "import tensorflow as tf"
      ],
      "metadata": {
        "id": "jp2h3txPUKj7"
      },
      "execution_count": 4,
      "outputs": []
    },
    {
      "cell_type": "code",
      "source": [
        "print(tf.__version__)"
      ],
      "metadata": {
        "colab": {
          "base_uri": "https://localhost:8080/"
        },
        "id": "_yGQ6ItyUO5M",
        "outputId": "dc2aa0d6-1e51-46f4-ade0-68ecc5a83934"
      },
      "execution_count": 5,
      "outputs": [
        {
          "output_type": "stream",
          "name": "stdout",
          "text": [
            "2.12.0\n"
          ]
        }
      ]
    },
    {
      "cell_type": "code",
      "source": [
        "import numpy as np\n",
        "import pandas as pd\n",
        "import matplotlib.pyplot as plt"
      ],
      "metadata": {
        "id": "X-HKoZbSUSs8"
      },
      "execution_count": 6,
      "outputs": []
    },
    {
      "cell_type": "markdown",
      "source": [
        "# Step 2: Data Preprocessing"
      ],
      "metadata": {
        "id": "eETK-GZUUcZx"
      }
    },
    {
      "cell_type": "code",
      "source": [
        "# Importing the dataset\n",
        "from tensorflow.keras.datasets import mnist"
      ],
      "metadata": {
        "id": "t_43FCcpUf3s"
      },
      "execution_count": 7,
      "outputs": []
    },
    {
      "cell_type": "code",
      "source": [
        "# Loading the dataset\n",
        "(x_train,y_train), (x_test, y_test) = mnist.load_data()"
      ],
      "metadata": {
        "colab": {
          "base_uri": "https://localhost:8080/"
        },
        "id": "VxULCO_yUrEy",
        "outputId": "73383b11-7545-4ba3-8eb2-7a3dfe502c10"
      },
      "execution_count": 8,
      "outputs": [
        {
          "output_type": "stream",
          "name": "stdout",
          "text": [
            "Downloading data from https://storage.googleapis.com/tensorflow/tf-keras-datasets/mnist.npz\n",
            "11490434/11490434 [==============================] - 0s 0us/step\n"
          ]
        }
      ]
    },
    {
      "cell_type": "code",
      "source": [
        "plt.imshow(x_train[10])"
      ],
      "metadata": {
        "colab": {
          "base_uri": "https://localhost:8080/",
          "height": 448
        },
        "id": "atIzb_wZU8_Q",
        "outputId": "b89ac21e-ad76-4eea-ed7f-699a80097657"
      },
      "execution_count": 9,
      "outputs": [
        {
          "output_type": "execute_result",
          "data": {
            "text/plain": [
              "<matplotlib.image.AxesImage at 0x7cb1a2f8fe20>"
            ]
          },
          "metadata": {},
          "execution_count": 9
        },
        {
          "output_type": "display_data",
          "data": {
            "text/plain": [
              "<Figure size 640x480 with 1 Axes>"
            ],
            "image/png": "[encoded data removed]"
          },
          "metadata": {}
        }
      ]
    },
    {
      "cell_type": "code",
      "source": [
        "y_train[10]"
      ],
      "metadata": {
        "colab": {
          "base_uri": "https://localhost:8080/"
        },
        "id": "1OMkKCOLVB15",
        "outputId": "4f80a51d-90db-477d-b475-8a2ee592010e"
      },
      "execution_count": 10,
      "outputs": [
        {
          "output_type": "execute_result",
          "data": {
            "text/plain": [
              "3"
            ]
          },
          "metadata": {},
          "execution_count": 10
        }
      ]
    },
    {
      "cell_type": "code",
      "source": [
        "x_train.shape, y_train.shape"
      ],
      "metadata": {
        "colab": {
          "base_uri": "https://localhost:8080/"
        },
        "id": "N30ES05eVSAH",
        "outputId": "8020ad73-c9a8-4166-b069-54ca4c4017d6"
      },
      "execution_count": 11,
      "outputs": [
        {
          "output_type": "execute_result",
          "data": {
            "text/plain": [
              "((60000, 28, 28), (60000,))"
            ]
          },
          "metadata": {},
          "execution_count": 11
        }
      ]
    },
    {
      "cell_type": "code",
      "source": [
        "x_test.shape, y_test.shape"
      ],
      "metadata": {
        "colab": {
          "base_uri": "https://localhost:8080/"
        },
        "id": "cNH_hWn3VvU2",
        "outputId": "86e28936-ecb2-4710-aca7-399c2965e6d9"
      },
      "execution_count": 12,
      "outputs": [
        {
          "output_type": "execute_result",
          "data": {
            "text/plain": [
              "((10000, 28, 28), (10000,))"
            ]
          },
          "metadata": {},
          "execution_count": 12
        }
      ]
    },
    {
      "cell_type": "code",
      "source": [
        "x_train.min(), x_train.max(), x_train.mean()"
      ],
      "metadata": {
        "colab": {
          "base_uri": "https://localhost:8080/"
        },
        "id": "Jm00mgaXV26m",
        "outputId": "d3036dc0-6bd2-4dd7-c096-8be833b4726f"
      },
      "execution_count": 13,
      "outputs": [
        {
          "output_type": "execute_result",
          "data": {
            "text/plain": [
              "(0, 255, 33.318421449829934)"
            ]
          },
          "metadata": {},
          "execution_count": 13
        }
      ]
    },
    {
      "cell_type": "code",
      "source": [
        "y_train.min(), y_train.max(), y_train.mean()"
      ],
      "metadata": {
        "colab": {
          "base_uri": "https://localhost:8080/"
        },
        "id": "ldlh8C3qV_St",
        "outputId": "e878456c-8379-4a73-856a-3144d33dc3be"
      },
      "execution_count": 14,
      "outputs": [
        {
          "output_type": "execute_result",
          "data": {
            "text/plain": [
              "(0, 9, 4.4539333333333335)"
            ]
          },
          "metadata": {},
          "execution_count": 14
        }
      ]
    },
    {
      "cell_type": "code",
      "source": [
        "x_train = x_train/255\n",
        "x_test = x_test/255"
      ],
      "metadata": {
        "id": "kelXNh4YWFA5"
      },
      "execution_count": 15,
      "outputs": []
    },
    {
      "cell_type": "code",
      "source": [
        "x_train.min(), x_train.max()"
      ],
      "metadata": {
        "colab": {
          "base_uri": "https://localhost:8080/"
        },
        "id": "nW7o1KAzWN1I",
        "outputId": "11f1bcf3-b782-4b65-8cd0-4e47a52fce5f"
      },
      "execution_count": 16,
      "outputs": [
        {
          "output_type": "execute_result",
          "data": {
            "text/plain": [
              "(0.0, 1.0)"
            ]
          },
          "metadata": {},
          "execution_count": 16
        }
      ]
    },
    {
      "cell_type": "code",
      "source": [
        "x_train.shape,x_test.shape"
      ],
      "metadata": {
        "colab": {
          "base_uri": "https://localhost:8080/"
        },
        "id": "EChaXoL6WSrH",
        "outputId": "df5a1555-cdb6-42d9-e95b-9e09c6070a43"
      },
      "execution_count": 17,
      "outputs": [
        {
          "output_type": "execute_result",
          "data": {
            "text/plain": [
              "((60000, 28, 28), (10000, 28, 28))"
            ]
          },
          "metadata": {},
          "execution_count": 17
        }
      ]
    },
    {
      "cell_type": "code",
      "source": [
        "# reshape the images\n",
        "x_train = x_train.reshape(60000,28,28,1)\n",
        "x_test = x_test.reshape(10000,28,28,1)"
      ],
      "metadata": {
        "id": "s2QBJzP0WqNJ"
      },
      "execution_count": 18,
      "outputs": []
    },
    {
      "cell_type": "code",
      "source": [
        "x_train.shape,x_test.shape"
      ],
      "metadata": {
        "colab": {
          "base_uri": "https://localhost:8080/"
        },
        "id": "GPIfEJQ_W740",
        "outputId": "faedff2e-d264-4bca-eee7-1604e330616c"
      },
      "execution_count": 19,
      "outputs": [
        {
          "output_type": "execute_result",
          "data": {
            "text/plain": [
              "((60000, 28, 28, 1), (10000, 28, 28, 1))"
            ]
          },
          "metadata": {},
          "execution_count": 19
        }
      ]
    },
    {
      "cell_type": "code",
      "source": [
        "input_shape = x_train[0].shape"
      ],
      "metadata": {
        "id": "upEMRcu6XACH"
      },
      "execution_count": 20,
      "outputs": []
    },
    {
      "cell_type": "code",
      "source": [
        "print(input_shape)"
      ],
      "metadata": {
        "colab": {
          "base_uri": "https://localhost:8080/"
        },
        "id": "E8FXO5nvXH1n",
        "outputId": "2ddaa87f-5930-4e33-a6b5-f9b2a4d40258"
      },
      "execution_count": 21,
      "outputs": [
        {
          "output_type": "stream",
          "name": "stdout",
          "text": [
            "(28, 28, 1)\n"
          ]
        }
      ]
    },
    {
      "cell_type": "code",
      "source": [],
      "metadata": {
        "id": "8bguoD5bXJKd"
      },
      "execution_count": 21,
      "outputs": []
    },
    {
      "cell_type": "markdown",
      "source": [
        "# Step 3: Building the Model"
      ],
      "metadata": {
        "id": "gNpUfCIFGt51"
      }
    },
    {
      "cell_type": "code",
      "source": [
        "# define an object\n",
        "model = tf.keras.models.Sequential()"
      ],
      "metadata": {
        "id": "Z-kppchTGxwb"
      },
      "execution_count": 23,
      "outputs": []
    },
    {
      "cell_type": "code",
      "source": [
        "#Adding first\n",
        "model.add(tf.keras.layers.Conv2D(filters = 32, kernel_size = (3,3),\n",
        "                                 activation = 'relu', input_shape = (28,28,1)))\n",
        "model.add(tf.keras.layers.Conv2D(filters = 32, kernel_size =(3,3),\n",
        "                                 activation = 'relu', input_shape = (28,28,1)))\n",
        "model.add(tf.keras.layers.MaxPool2D(pool_size=(2,2)))\n",
        "model.add(tf.keras.layers.Dropout(0.4))\n",
        "model.add(tf.keras.layers.Flatten())\n",
        "\n",
        "# Fully connected layer\n",
        "model.add(tf.keras.layers.Dense(units = 128, activation = 'relu'))\n",
        "#output layer\n",
        "model.add(tf.keras.layers.Dense(units = 10, activation = 'softmax'))"
      ],
      "metadata": {
        "id": "CQ8tGZWBG-2J"
      },
      "execution_count": 24,
      "outputs": []
    },
    {
      "cell_type": "code",
      "source": [
        "model.summary()"
      ],
      "metadata": {
        "colab": {
          "base_uri": "https://localhost:8080/"
        },
        "id": "x8Sf_PddJ9wV",
        "outputId": "d3ea9a14-a243-4693-edec-8760a93ffcdd"
      },
      "execution_count": 25,
      "outputs": [
        {
          "output_type": "stream",
          "name": "stdout",
          "text": [
            "Model: \"sequential\"\n",
            "_________________________________________________________________\n",
            " Layer (type)                Output Shape              Param #   \n",
            "=================================================================\n",
            " conv2d (Conv2D)             (None, 26, 26, 32)        320       \n",
            "                                                                 \n",
            " conv2d_1 (Conv2D)           (None, 24, 24, 32)        9248      \n",
            "                                                                 \n",
            " max_pooling2d (MaxPooling2D  (None, 12, 12, 32)       0         \n",
            " )                                                               \n",
            "                                                                 \n",
            " dropout (Dropout)           (None, 12, 12, 32)        0         \n",
            "                                                                 \n",
            " flatten (Flatten)           (None, 4608)              0         \n",
            "                                                                 \n",
            " dense (Dense)               (None, 128)               589952    \n",
            "                                                                 \n",
            " dense_1 (Dense)             (None, 10)                1290      \n",
            "                                                                 \n",
            "=================================================================\n",
            "Total params: 600,810\n",
            "Trainable params: 600,810\n",
            "Non-trainable params: 0\n",
            "_________________________________________________________________\n"
          ]
        }
      ]
    },
    {
      "cell_type": "code",
      "source": [
        "model.compile(optimizer = 'adam', loss = 'sparse_categorical_crossentropy', metrics = ['sparse_categorical_accuracy'])"
      ],
      "metadata": {
        "id": "hzyK1JoLJ_Uy"
      },
      "execution_count": 32,
      "outputs": []
    },
    {
      "cell_type": "markdown",
      "source": [
        "# Step 4: Training the Model\n"
      ],
      "metadata": {
        "id": "_7cVdHcIYJK4"
      }
    },
    {
      "cell_type": "code",
      "source": [
        " model.fit(x_train, y_train, batch_size = 128, epochs = 10, validation_data = (x_test, y_test))"
      ],
      "metadata": {
        "colab": {
          "base_uri": "https://localhost:8080/"
        },
        "id": "oDPqV5Z2M-bj",
        "outputId": "4bffe7cb-b163-47c1-a06b-c407183c174e"
      },
      "execution_count": 33,
      "outputs": [
        {
          "output_type": "stream",
          "name": "stdout",
          "text": [
            "Epoch 1/10\n",
            "469/469 [==============================] - 156s 327ms/step - loss: 0.2021 - sparse_categorical_accuracy: 0.9393 - val_loss: 0.0667 - val_sparse_categorical_accuracy: 0.9781\n",
            "Epoch 2/10\n",
            "469/469 [==============================] - 143s 306ms/step - loss: 0.0622 - sparse_categorical_accuracy: 0.9812 - val_loss: 0.0378 - val_sparse_categorical_accuracy: 0.9874\n",
            "Epoch 3/10\n",
            "469/469 [==============================] - 146s 312ms/step - loss: 0.0432 - sparse_categorical_accuracy: 0.9861 - val_loss: 0.0352 - val_sparse_categorical_accuracy: 0.9886\n",
            "Epoch 4/10\n",
            "469/469 [==============================] - 146s 312ms/step - loss: 0.0335 - sparse_categorical_accuracy: 0.9898 - val_loss: 0.0323 - val_sparse_categorical_accuracy: 0.9895\n",
            "Epoch 5/10\n",
            "469/469 [==============================] - 149s 317ms/step - loss: 0.0263 - sparse_categorical_accuracy: 0.9913 - val_loss: 0.0345 - val_sparse_categorical_accuracy: 0.9886\n",
            "Epoch 6/10\n",
            "469/469 [==============================] - 143s 305ms/step - loss: 0.0226 - sparse_categorical_accuracy: 0.9928 - val_loss: 0.0379 - val_sparse_categorical_accuracy: 0.9882\n",
            "Epoch 7/10\n",
            "469/469 [==============================] - 144s 307ms/step - loss: 0.0195 - sparse_categorical_accuracy: 0.9936 - val_loss: 0.0267 - val_sparse_categorical_accuracy: 0.9909\n",
            "Epoch 8/10\n",
            "469/469 [==============================] - 147s 315ms/step - loss: 0.0152 - sparse_categorical_accuracy: 0.9949 - val_loss: 0.0338 - val_sparse_categorical_accuracy: 0.9898\n",
            "Epoch 9/10\n",
            "469/469 [==============================] - 145s 309ms/step - loss: 0.0154 - sparse_categorical_accuracy: 0.9948 - val_loss: 0.0291 - val_sparse_categorical_accuracy: 0.9911\n",
            "Epoch 10/10\n",
            "469/469 [==============================] - 145s 310ms/step - loss: 0.0136 - sparse_categorical_accuracy: 0.9952 - val_loss: 0.0321 - val_sparse_categorical_accuracy: 0.9902\n"
          ]
        },
        {
          "output_type": "execute_result",
          "data": {
            "text/plain": [
              "<keras.callbacks.History at 0x7cb1801bb790>"
            ]
          },
          "metadata": {},
          "execution_count": 33
        }
      ]
    },
    {
      "cell_type": "code",
      "source": [
        "y_pred = np.argmax(model.predict(x_test), axis=-1)"
      ],
      "metadata": {
        "colab": {
          "base_uri": "https://localhost:8080/"
        },
        "id": "3f01LGa9NP62",
        "outputId": "b3c1c9b3-76aa-4c89-b543-0d42eeba6e5b"
      },
      "execution_count": 35,
      "outputs": [
        {
          "output_type": "stream",
          "name": "stdout",
          "text": [
            "313/313 [==============================] - 8s 24ms/step\n"
          ]
        }
      ]
    },
    {
      "cell_type": "code",
      "source": [
        "y_pred[7],y_test[7]"
      ],
      "metadata": {
        "colab": {
          "base_uri": "https://localhost:8080/"
        },
        "id": "eCi2hOIQTiB0",
        "outputId": "9f2341cd-c1ef-4353-b214-7b3d481def31"
      },
      "execution_count": 38,
      "outputs": [
        {
          "output_type": "execute_result",
          "data": {
            "text/plain": [
              "(9, 9)"
            ]
          },
          "metadata": {},
          "execution_count": 38
        }
      ]
    },
    {
      "cell_type": "code",
      "source": [
        "from sklearn.metrics import confusion_matrix, accuracy_score\n",
        "cm = confusion_matrix(y_test, y_pred)\n",
        "print(cm)"
      ],
      "metadata": {
        "colab": {
          "base_uri": "https://localhost:8080/"
        },
        "id": "GNhwODjFTszX",
        "outputId": "e01fed28-3ee2-44bd-8c7f-166cce08ed97"
      },
      "execution_count": 39,
      "outputs": [
        {
          "output_type": "stream",
          "name": "stdout",
          "text": [
            "[[ 974    0    1    1    0    1    2    0    1    0]\n",
            " [   0 1131    0    0    0    1    2    0    1    0]\n",
            " [   1    1 1020    2    1    0    0    5    2    0]\n",
            " [   0    0    0 1003    0    3    0    2    1    1]\n",
            " [   0    0    0    0  970    0    1    0    1   10]\n",
            " [   1    1    0    3    0  885    1    0    1    0]\n",
            " [   4    2    0    0    4    1  946    0    1    0]\n",
            " [   0    1    4    2    0    0    0 1015    2    4]\n",
            " [   1    0    1    1    0    0    0    3  964    4]\n",
            " [   1    1    0    0    2    5    0    4    2  994]]\n"
          ]
        }
      ]
    },
    {
      "cell_type": "code",
      "source": [
        "acc_cm = accuracy_score(y_test, y_pred)\n",
        "print(acc_cm)"
      ],
      "metadata": {
        "colab": {
          "base_uri": "https://localhost:8080/"
        },
        "id": "eEq6Iq2zUI1W",
        "outputId": "c7522662-d152-4104-eb27-66ed8e365c3d"
      },
      "execution_count": 41,
      "outputs": [
        {
          "output_type": "stream",
          "name": "stdout",
          "text": [
            "0.9902\n"
          ]
        }
      ]
    },
    {
      "cell_type": "code",
      "source": [],
      "metadata": {
        "id": "X-YQDFnAU36T"
      },
      "execution_count": null,
      "outputs": []
    }
  ]
}