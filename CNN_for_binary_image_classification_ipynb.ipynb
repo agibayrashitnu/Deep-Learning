{
  "cells": [
    {
      "cell_type": "markdown",
      "metadata": {
        "id": "view-in-github",
        "colab_type": "text"
      },
      "source": [
        "<a href=\"https://colab.research.google.com/github/agibayrashitnu/Deep-Learning/blob/main/CNN_for_binary_image_classification_ipynb.ipynb\" target=\"_parent\"><img src=\"https://colab.research.google.com/assets/colab-badge.svg\" alt=\"Open In Colab\"/></a>"
      ]
    },
    {
      "cell_type": "markdown",
      "metadata": {
        "id": "JoEr0QjqzpGe"
      },
      "source": [
        "# Step 1: Installation and Setup"
      ]
    },
    {
      "cell_type": "code",
      "execution_count": null,
      "metadata": {
        "colab": {
          "base_uri": "https://localhost:8080/"
        },
        "id": "E1fZy6eSzmXU",
        "outputId": "dec96226-087e-42ea-dedc-d3098993bd83"
      },
      "outputs": [
        {
          "name": "stdout",
          "output_type": "stream",
          "text": [
            "\n",
            "Usage:   \n",
            "  pip3 install [options] <requirement specifier> [package-index-options] ...\n",
            "  pip3 install [options] -r <requirements file> [package-index-options] ...\n",
            "  pip3 install [options] [-e] <vcs project url> ...\n",
            "  pip3 install [options] [-e] <local project path> ...\n",
            "  pip3 install [options] <archive url/path> ...\n",
            "\n",
            "no such option: -g\n"
          ]
        }
      ],
      "source": [
        "pip install -q tensorflow -gpu"
      ]
    },
    {
      "cell_type": "code",
      "execution_count": null,
      "metadata": {
        "id": "vssDkP1Wz4DB"
      },
      "outputs": [],
      "source": [
        "import tensorflow as tf\n"
      ]
    },
    {
      "cell_type": "code",
      "execution_count": null,
      "metadata": {
        "colab": {
          "base_uri": "https://localhost:8080/"
        },
        "id": "qH23YFQAz65k",
        "outputId": "3fab91dc-a77a-402a-8c17-919487aa0550"
      },
      "outputs": [
        {
          "name": "stdout",
          "output_type": "stream",
          "text": [
            "2.13.0\n"
          ]
        }
      ],
      "source": [
        "print(tf.__version__)"
      ]
    },
    {
      "cell_type": "code",
      "execution_count": null,
      "metadata": {
        "id": "UnsEhCh3z9we"
      },
      "outputs": [],
      "source": [
        "import numpy as np\n",
        "import pandas as pd\n",
        "import matplotlib.pyplot as plt\n",
        "\n"
      ]
    },
    {
      "cell_type": "code",
      "execution_count": null,
      "metadata": {
        "id": "iNLjYBOv0u_f"
      },
      "outputs": [],
      "source": []
    },
    {
      "cell_type": "markdown",
      "metadata": {
        "id": "2REOJJiB0wAx"
      },
      "source": [
        "# Step 2: Importing the dataset from Kaggle"
      ]
    },
    {
      "cell_type": "code",
      "execution_count": null,
      "metadata": {
        "id": "h89CA-09005D"
      },
      "outputs": [],
      "source": [
        "#Installing Kaggle API\n",
        "!pip install -q kaggle\n"
      ]
    },
    {
      "cell_type": "code",
      "execution_count": null,
      "metadata": {
        "id": "LL2oNDj91Cc2"
      },
      "outputs": [],
      "source": [
        "# Create a directory named Kaggle\n",
        "! mkdir -p ~/.kaggle"
      ]
    },
    {
      "cell_type": "code",
      "execution_count": null,
      "metadata": {
        "colab": {
          "base_uri": "https://localhost:8080/",
          "height": 74
        },
        "id": "C_iifn0S1dFg",
        "outputId": "c8d3fea8-fc63-401c-a45d-4192f5a8ee9e"
      },
      "outputs": [
        {
          "data": {
            "text/html": [
              "\n",
              "     <input type=\"file\" id=\"files-0328c434-9d55-49ad-ac63-94a77d4844d9\" name=\"files[]\" multiple disabled\n",
              "        style=\"border:none\" />\n",
              "     <output id=\"result-0328c434-9d55-49ad-ac63-94a77d4844d9\">\n",
              "      Upload widget is only available when the cell has been executed in the\n",
              "      current browser session. Please rerun this cell to enable.\n",
              "      </output>\n",
              "      <script>// Copyright 2017 Google LLC\n",
              "//\n",
              "// Licensed under the Apache License, Version 2.0 (the \"License\");\n",
              "// you may not use this file except in compliance with the License.\n",
              "// You may obtain a copy of the License at\n",
              "//\n",
              "//      http://www.apache.org/licenses/LICENSE-2.0\n",
              "//\n",
              "// Unless required by applicable law or agreed to in writing, software\n",
              "// distributed under the License is distributed on an \"AS IS\" BASIS,\n",
              "// WITHOUT WARRANTIES OR CONDITIONS OF ANY KIND, either express or implied.\n",
              "// See the License for the specific language governing permissions and\n",
              "// limitations under the License.\n",
              "\n",
              "/**\n",
              " * @fileoverview Helpers for google.colab Python module.\n",
              " */\n",
              "(function(scope) {\n",
              "function span(text, styleAttributes = {}) {\n",
              "  const element = document.createElement('span');\n",
              "  element.textContent = text;\n",
              "  for (const key of Object.keys(styleAttributes)) {\n",
              "    element.style[key] = styleAttributes[key];\n",
              "  }\n",
              "  return element;\n",
              "}\n",
              "\n",
              "// Max number of bytes which will be uploaded at a time.\n",
              "const MAX_PAYLOAD_SIZE = 100 * 1024;\n",
              "\n",
              "function _uploadFiles(inputId, outputId) {\n",
              "  const steps = uploadFilesStep(inputId, outputId);\n",
              "  const outputElement = document.getElementById(outputId);\n",
              "  // Cache steps on the outputElement to make it available for the next call\n",
              "  // to uploadFilesContinue from Python.\n",
              "  outputElement.steps = steps;\n",
              "\n",
              "  return _uploadFilesContinue(outputId);\n",
              "}\n",
              "\n",
              "// This is roughly an async generator (not supported in the browser yet),\n",
              "// where there are multiple asynchronous steps and the Python side is going\n",
              "// to poll for completion of each step.\n",
              "// This uses a Promise to block the python side on completion of each step,\n",
              "// then passes the result of the previous step as the input to the next step.\n",
              "function _uploadFilesContinue(outputId) {\n",
              "  const outputElement = document.getElementById(outputId);\n",
              "  const steps = outputElement.steps;\n",
              "\n",
              "  const next = steps.next(outputElement.lastPromiseValue);\n",
              "  return Promise.resolve(next.value.promise).then((value) => {\n",
              "    // Cache the last promise value to make it available to the next\n",
              "    // step of the generator.\n",
              "    outputElement.lastPromiseValue = value;\n",
              "    return next.value.response;\n",
              "  });\n",
              "}\n",
              "\n",
              "/**\n",
              " * Generator function which is called between each async step of the upload\n",
              " * process.\n",
              " * @param {string} inputId Element ID of the input file picker element.\n",
              " * @param {string} outputId Element ID of the output display.\n",
              " * @return {!Iterable<!Object>} Iterable of next steps.\n",
              " */\n",
              "function* uploadFilesStep(inputId, outputId) {\n",
              "  const inputElement = document.getElementById(inputId);\n",
              "  inputElement.disabled = false;\n",
              "\n",
              "  const outputElement = document.getElementById(outputId);\n",
              "  outputElement.innerHTML = '';\n",
              "\n",
              "  const pickedPromise = new Promise((resolve) => {\n",
              "    inputElement.addEventListener('change', (e) => {\n",
              "      resolve(e.target.files);\n",
              "    });\n",
              "  });\n",
              "\n",
              "  const cancel = document.createElement('button');\n",
              "  inputElement.parentElement.appendChild(cancel);\n",
              "  cancel.textContent = 'Cancel upload';\n",
              "  const cancelPromise = new Promise((resolve) => {\n",
              "    cancel.onclick = () => {\n",
              "      resolve(null);\n",
              "    };\n",
              "  });\n",
              "\n",
              "  // Wait for the user to pick the files.\n",
              "  const files = yield {\n",
              "    promise: Promise.race([pickedPromise, cancelPromise]),\n",
              "    response: {\n",
              "      action: 'starting',\n",
              "    }\n",
              "  };\n",
              "\n",
              "  cancel.remove();\n",
              "\n",
              "  // Disable the input element since further picks are not allowed.\n",
              "  inputElement.disabled = true;\n",
              "\n",
              "  if (!files) {\n",
              "    return {\n",
              "      response: {\n",
              "        action: 'complete',\n",
              "      }\n",
              "    };\n",
              "  }\n",
              "\n",
              "  for (const file of files) {\n",
              "    const li = document.createElement('li');\n",
              "    li.append(span(file.name, {fontWeight: 'bold'}));\n",
              "    li.append(span(\n",
              "        `(${file.type || 'n/a'}) - ${file.size} bytes, ` +\n",
              "        `last modified: ${\n",
              "            file.lastModifiedDate ? file.lastModifiedDate.toLocaleDateString() :\n",
              "                                    'n/a'} - `));\n",
              "    const percent = span('0% done');\n",
              "    li.appendChild(percent);\n",
              "\n",
              "    outputElement.appendChild(li);\n",
              "\n",
              "    const fileDataPromise = new Promise((resolve) => {\n",
              "      const reader = new FileReader();\n",
              "      reader.onload = (e) => {\n",
              "        resolve(e.target.result);\n",
              "      };\n",
              "      reader.readAsArrayBuffer(file);\n",
              "    });\n",
              "    // Wait for the data to be ready.\n",
              "    let fileData = yield {\n",
              "      promise: fileDataPromise,\n",
              "      response: {\n",
              "        action: 'continue',\n",
              "      }\n",
              "    };\n",
              "\n",
              "    // Use a chunked sending to avoid message size limits. See b/62115660.\n",
              "    let position = 0;\n",
              "    do {\n",
              "      const length = Math.min(fileData.byteLength - position, MAX_PAYLOAD_SIZE);\n",
              "      const chunk = new Uint8Array(fileData, position, length);\n",
              "      position += length;\n",
              "\n",
              "      const base64 = btoa(String.fromCharCode.apply(null, chunk));\n",
              "      yield {\n",
              "        response: {\n",
              "          action: 'append',\n",
              "          file: file.name,\n",
              "          data: base64,\n",
              "        },\n",
              "      };\n",
              "\n",
              "      let percentDone = fileData.byteLength === 0 ?\n",
              "          100 :\n",
              "          Math.round((position / fileData.byteLength) * 100);\n",
              "      percent.textContent = `${percentDone}% done`;\n",
              "\n",
              "    } while (position < fileData.byteLength);\n",
              "  }\n",
              "\n",
              "  // All done.\n",
              "  yield {\n",
              "    response: {\n",
              "      action: 'complete',\n",
              "    }\n",
              "  };\n",
              "}\n",
              "\n",
              "scope.google = scope.google || {};\n",
              "scope.google.colab = scope.google.colab || {};\n",
              "scope.google.colab._files = {\n",
              "  _uploadFiles,\n",
              "  _uploadFilesContinue,\n",
              "};\n",
              "})(self);\n",
              "</script> "
            ],
            "text/plain": [
              "<IPython.core.display.HTML object>"
            ]
          },
          "metadata": {},
          "output_type": "display_data"
        },
        {
          "name": "stdout",
          "output_type": "stream",
          "text": [
            "Saving kaggle.json to kaggle.json\n"
          ]
        }
      ],
      "source": [
        "# import API key to colab\n",
        "from google.colab import files\n",
        "\n",
        "uploaded = files.upload()"
      ]
    },
    {
      "cell_type": "code",
      "execution_count": null,
      "metadata": {
        "id": "P7OpfO8F1_2i"
      },
      "outputs": [],
      "source": [
        "#copy API key to kaggle directory\n",
        "!cp kaggle.json ~/.kaggle/"
      ]
    },
    {
      "cell_type": "code",
      "execution_count": null,
      "metadata": {
        "id": "tJz2P7US2d8P"
      },
      "outputs": [],
      "source": [
        "#disable API key\n",
        "\n",
        "!chmod 600 /root/.kaggle/kaggle.json"
      ]
    },
    {
      "cell_type": "code",
      "execution_count": null,
      "metadata": {
        "colab": {
          "base_uri": "https://localhost:8080/"
        },
        "id": "wJ9ZBhOh2z16",
        "outputId": "e4fa6195-975b-4b4d-e299-dc10f200258d"
      },
      "outputs": [
        {
          "name": "stdout",
          "output_type": "stream",
          "text": [
            "ref                                                        title                                               size  lastUpdated          downloadCount  voteCount  usabilityRating  \n",
            "---------------------------------------------------------  -------------------------------------------------  -----  -------------------  -------------  ---------  ---------------  \n",
            "nelgiriyewithana/top-spotify-songs-2023                    Most Streamed Spotify Songs 2023                    47KB  2023-08-26 11:04:57           9405        307  1.0              \n",
            "josephinelsy/spotify-top-hit-playlist-2010-2022            Spotify Top Hit Playlist (2010-2022)               210KB  2023-09-08 06:11:44           1718         51  1.0              \n",
            "joebeachcapital/students-performance                       Students Performance                                 2KB  2023-08-31 00:50:11           3041         77  1.0              \n",
            "iamsouravbanerjee/airline-dataset                          Airline Dataset                                      8MB  2023-09-13 06:47:17           3678         88  1.0              \n",
            "carlmcbrideellis/zzzs-lightweight-training-dataset-target  Zzzs: Lightweight training dataset + target        185MB  2023-09-11 07:21:51            305         44  1.0              \n",
            "rukenmissonnier/final-house                                 Housing Market & Prices                           136KB  2023-09-07 21:52:57            712         23  0.9411765        \n",
            "nelgiriyewithana/global-youtube-statistics-2023            Global YouTube Statistics 2023                      60KB  2023-07-28 15:36:38          18936        598  1.0              \n",
            "lorentzyeung/all-japanese-anime-titles-in-imdb             Japanese Anime: An In-Depth IMDb Data Set            3MB  2023-09-08 21:41:29            613         27  1.0              \n",
            "farahalarbeed/car-prices-jordan                            Car Prices Jordan 2023                               5KB  2023-09-14 10:17:03            339         23  1.0              \n",
            "joebeachcapital/restaurant-reviews                         Restaurant Reviews                                   1MB  2023-09-03 23:56:41           1349         36  1.0              \n",
            "mjshri23/life-expectancy-and-socio-economic-world-bank     Life expectancy & Socio-Economic (world bank)      168KB  2023-09-05 07:09:14           1091         34  1.0              \n",
            "muhammadtalhaawan/world-export-and-import-dataset          World Export & Import Dataset (1989 - 2023)        721KB  2023-09-09 18:59:41           1063         30  1.0              \n",
            "ahmedsayed564/amazon-sales-dataset                         Amazon Sales Dataset 📦                               2MB  2023-09-08 10:14:34            891         26  0.7647059        \n",
            "alitaqi000/world-university-rankings-2023                  World University Rankings 2023                      70KB  2023-08-31 14:35:38           2266         52  1.0              \n",
            "aemyjutt/salesdata                                         SalesDataAnalysis                                    5MB  2023-09-04 03:29:58           1216         32  0.9411765        \n",
            "shriyashjagtap/e-commerce-customer-for-behavior-analysis   🛒 E-commerce Customer Data For Behavior Analysis    10MB  2023-09-15 07:17:18            379         27  1.0              \n",
            "nelgiriyewithana/world-stock-prices-daily-updating         World Stock Prices ( Daily Updating )               10MB  2023-09-16 23:07:16            971         38  1.0              \n",
            "lasaljaywardena/global-cryptocurrency-price-database       Global Crypto Currency Price Database              160MB  2023-09-17 00:13:20            173         75  1.0              \n",
            "amalab182/cricket-world-cup-scores1975-2019                CRICKET WORLD CUP SCORES(1975-2019                  11KB  2023-09-09 12:21:17            281         29  1.0              \n",
            "berkayeserr/phone-prices                                   Phone Prices                                        27KB  2023-09-06 15:09:29           1322         30  0.88235295       \n"
          ]
        }
      ],
      "source": [
        "! kaggle datasets list"
      ]
    },
    {
      "cell_type": "code",
      "execution_count": null,
      "metadata": {
        "colab": {
          "base_uri": "https://localhost:8080/"
        },
        "id": "Wm0T1NJW24iO",
        "outputId": "6c02e7b4-6de5-473c-912d-e6316e956252"
      },
      "outputs": [
        {
          "name": "stdout",
          "output_type": "stream",
          "text": [
            "Downloading cat-and-dog.zip to /content\n",
            " 95% 206M/218M [00:02<00:00, 110MB/s]\n",
            "100% 218M/218M [00:02<00:00, 107MB/s]\n"
          ]
        }
      ],
      "source": [
        "# importing the dataset\n",
        "!kaggle datasets download -d tongpython/cat-and-dog"
      ]
    },
    {
      "cell_type": "code",
      "execution_count": null,
      "metadata": {
        "id": "86q5T61B3dqu"
      },
      "outputs": [],
      "source": [
        "# unzip the dataset\n",
        "!unzip -q  /content/cat-and-dog.zip"
      ]
    },
    {
      "cell_type": "code",
      "execution_count": null,
      "metadata": {
        "id": "pumZ5W_O3sSs"
      },
      "outputs": [],
      "source": []
    },
    {
      "cell_type": "markdown",
      "metadata": {
        "id": "l7aEkmpO4F9h"
      },
      "source": [
        "# Step 3: Building the Model"
      ]
    },
    {
      "cell_type": "code",
      "execution_count": null,
      "metadata": {
        "id": "yO6hImcJ4JZE"
      },
      "outputs": [],
      "source": [
        "# Creating an object (initializing CNN)\n",
        "model = tf.keras.models.Sequential()\n"
      ]
    },
    {
      "cell_type": "code",
      "execution_count": null,
      "metadata": {
        "id": "54CrtO9i4be2"
      },
      "outputs": [],
      "source": [
        "# Adding first CNN model (input layer )\n",
        "#1) filters =64\n",
        "#2) kernel_size = 3\n",
        "#3) padding = same\n",
        "#4) activation function = relu\n",
        "#5) input_shape = (32, 32,3)\n",
        "\n",
        "model.add(tf.keras.layers.Conv2D(filters = 64, kernel_size = 3, padding = 'same', activation = 'relu', input_shape = (32,32,3)))\n"
      ]
    },
    {
      "cell_type": "code",
      "execution_count": null,
      "metadata": {
        "id": "PwL1t83Z5HYf"
      },
      "outputs": [],
      "source": [
        "# Adding maxpool layer\n",
        "#1) pool size = 2\n",
        "#2) strides = 2\n",
        "#3) padding = valid\n",
        "\n",
        "model.add(tf.keras.layers.MaxPool2D(pool_size =(2,2), strides=2,padding = 'valid'))\n",
        "\n"
      ]
    },
    {
      "cell_type": "code",
      "execution_count": null,
      "metadata": {
        "id": "JZy0IT_45vgF"
      },
      "outputs": [],
      "source": [
        "# Adding first CNN model (input layer )\n",
        "#1) filters =128\n",
        "#2) kernel_size = 3\n",
        "#3) padding = same\n",
        "#4) activation function = relu\n",
        "model.add(tf.keras.layers.Conv2D(filters = 128, kernel_size = 3, padding = 'same', activation = 'relu'))"
      ]
    },
    {
      "cell_type": "code",
      "execution_count": null,
      "metadata": {
        "id": "LR64Jq0U6Cmk"
      },
      "outputs": [],
      "source": [
        "# Adding maxpool layer\n",
        "#1) pool size = 2\n",
        "#2) strides = 2\n",
        "#3) padding = valid\n",
        "\n",
        "model.add(tf.keras.layers.MaxPool2D(pool_size =(2,2), strides=2,padding = 'valid'))"
      ]
    },
    {
      "cell_type": "code",
      "execution_count": null,
      "metadata": {
        "id": "1mvEJ1h_6tzN"
      },
      "outputs": [],
      "source": [
        "# Adding flattening layer\n",
        "model.add(tf.keras.layers.Flatten())"
      ]
    },
    {
      "cell_type": "code",
      "execution_count": null,
      "metadata": {
        "id": "GE2KQJrk62gY"
      },
      "outputs": [],
      "source": [
        "# Ignoring neurons is 30%\n",
        "model.add(tf.keras.layers.Dropout(0.4))"
      ]
    },
    {
      "cell_type": "code",
      "execution_count": null,
      "metadata": {
        "id": "9rjzj6qO696L"
      },
      "outputs": [],
      "source": [
        "# Adding fully connected layer\n",
        "model.add(tf.keras.layers.Dense(units = 128, activation = 'relu'))"
      ]
    },
    {
      "cell_type": "code",
      "execution_count": null,
      "metadata": {
        "id": "T2zuow1m7Wc7"
      },
      "outputs": [],
      "source": [
        "# Adding putput layer\n",
        "model.add(tf.keras.layers.Dense(units = 1, activation = 'sigmoid'))"
      ]
    },
    {
      "cell_type": "code",
      "execution_count": null,
      "metadata": {
        "id": "E4tiXFkV7tVC"
      },
      "outputs": [],
      "source": [
        "model.compile(optimizer = 'adam', loss = 'binary_crossentropy', metrics = ['accuracy'])"
      ]
    },
    {
      "cell_type": "markdown",
      "metadata": {
        "id": "Jn2kDduN7ykJ"
      },
      "source": [
        "# Step 4: Fitting CNN to Images"
      ]
    },
    {
      "cell_type": "code",
      "execution_count": null,
      "metadata": {
        "id": "7aV_wV6K8XUu"
      },
      "outputs": [],
      "source": [
        "from tensorflow.keras.preprocessing.image import ImageDataGenerator\n"
      ]
    },
    {
      "cell_type": "code",
      "execution_count": null,
      "metadata": {
        "id": "wuMAsee38hi5"
      },
      "outputs": [],
      "source": [
        "training_data_dir = '/content/training_set/training_set'\n",
        "test_data_dir = '/content/test_set/test_set'"
      ]
    },
    {
      "cell_type": "code",
      "execution_count": null,
      "metadata": {
        "id": "U5E2CV128xPa"
      },
      "outputs": [],
      "source": [
        "#rescale images\n",
        "datagen = ImageDataGenerator(rescale = 1./255)"
      ]
    },
    {
      "cell_type": "code",
      "execution_count": null,
      "metadata": {
        "colab": {
          "base_uri": "https://localhost:8080/"
        },
        "id": "-Qm0E1CA85lZ",
        "outputId": "04826ebc-5cb8-418d-9584-4c077c27be6b"
      },
      "outputs": [
        {
          "name": "stdout",
          "output_type": "stream",
          "text": [
            "Found 8005 images belonging to 2 classes.\n",
            "Found 2023 images belonging to 2 classes.\n"
          ]
        }
      ],
      "source": [
        "training_set = datagen.flow_from_directory(directory=training_data_dir, target_size=(32,32),\n",
        "                                           classes = ['dogs', 'cats'], class_mode = 'binary',\n",
        "                                           batch_size = 20)\n",
        "test_set = datagen.flow_from_directory(directory=test_data_dir, target_size=(32,32),\n",
        "                                       classes = ['dogs', 'cats'], class_mode = 'binary',\n",
        "                                       batch_size = 20)"
      ]
    },
    {
      "cell_type": "code",
      "execution_count": null,
      "metadata": {
        "colab": {
          "base_uri": "https://localhost:8080/"
        },
        "id": "QcsYYqsn9vJo",
        "outputId": "9ea4def2-66a5-44f5-a207-bd2bdc5614b0"
      },
      "outputs": [
        {
          "data": {
            "text/plain": [
              "(401, 102)"
            ]
          },
          "execution_count": 27,
          "metadata": {},
          "output_type": "execute_result"
        }
      ],
      "source": [
        "len(training_set), len(test_set)"
      ]
    },
    {
      "cell_type": "code",
      "execution_count": null,
      "metadata": {
        "colab": {
          "base_uri": "https://localhost:8080/"
        },
        "id": "tbZTgysi-SlV",
        "outputId": "4074a1c9-46b1-44b0-de7f-e2e7d7fa9263"
      },
      "outputs": [
        {
          "data": {
            "text/plain": [
              "(8020, 2040)"
            ]
          },
          "execution_count": 28,
          "metadata": {},
          "output_type": "execute_result"
        }
      ],
      "source": [
        "len(training_set)*20, len(test_set)*20"
      ]
    },
    {
      "cell_type": "code",
      "execution_count": null,
      "metadata": {
        "colab": {
          "background_save": true,
          "base_uri": "https://localhost:8080/"
        },
        "id": "BugmxvcH-lhD",
        "outputId": "98873eb5-6d67-43d7-a182-66a7a16e8f80"
      },
      "outputs": [
        {
          "name": "stderr",
          "output_type": "stream",
          "text": [
            "<ipython-input-29-59f7c7f5e413>:1: UserWarning: `Model.fit_generator` is deprecated and will be removed in a future version. Please use `Model.fit`, which supports generators.\n",
            "  history = model.fit_generator(generator = training_set, steps_per_epoch = 401, epochs = 15,\n"
          ]
        },
        {
          "name": "stdout",
          "output_type": "stream",
          "text": [
            "Epoch 1/15\n",
            "401/401 [==============================] - 64s 154ms/step - loss: 0.6756 - accuracy: 0.5713 - val_loss: 0.6391 - val_accuracy: 0.6258\n",
            "Epoch 2/15\n",
            "401/401 [==============================] - 47s 117ms/step - loss: 0.6054 - accuracy: 0.6730 - val_loss: 0.5606 - val_accuracy: 0.7103\n",
            "Epoch 3/15\n",
            "401/401 [==============================] - 50s 124ms/step - loss: 0.5617 - accuracy: 0.7121 - val_loss: 0.5905 - val_accuracy: 0.6831\n",
            "Epoch 4/15\n",
            "401/401 [==============================] - 46s 116ms/step - loss: 0.5178 - accuracy: 0.7413 - val_loss: 0.5183 - val_accuracy: 0.7454\n",
            "Epoch 5/15\n",
            "401/401 [==============================] - 48s 120ms/step - loss: 0.4809 - accuracy: 0.7686 - val_loss: 0.5300 - val_accuracy: 0.7464\n",
            "Epoch 6/15\n",
            "401/401 [==============================] - 53s 133ms/step - loss: 0.4500 - accuracy: 0.7805 - val_loss: 0.4959 - val_accuracy: 0.7657\n",
            "Epoch 7/15\n",
            "401/401 [==============================] - 48s 120ms/step - loss: 0.4126 - accuracy: 0.8069 - val_loss: 0.5038 - val_accuracy: 0.7716\n",
            "Epoch 8/15\n",
            "401/401 [==============================] - 49s 123ms/step - loss: 0.3829 - accuracy: 0.8235 - val_loss: 0.5042 - val_accuracy: 0.7662\n",
            "Epoch 9/15\n",
            "401/401 [==============================] - 48s 120ms/step - loss: 0.3515 - accuracy: 0.8462 - val_loss: 0.5121 - val_accuracy: 0.7533\n",
            "Epoch 10/15\n",
            "401/401 [==============================] - 48s 118ms/step - loss: 0.3146 - accuracy: 0.8602 - val_loss: 0.5233 - val_accuracy: 0.7657\n",
            "Epoch 11/15\n",
            "401/401 [==============================] - 48s 120ms/step - loss: 0.2814 - accuracy: 0.8771 - val_loss: 0.5575 - val_accuracy: 0.7761\n",
            "Epoch 12/15\n",
            "401/401 [==============================] - 48s 119ms/step - loss: 0.2412 - accuracy: 0.8977 - val_loss: 0.5632 - val_accuracy: 0.7711\n",
            "Epoch 13/15\n",
            "401/401 [==============================] - 48s 119ms/step - loss: 0.2131 - accuracy: 0.9164 - val_loss: 0.6371 - val_accuracy: 0.7726\n",
            "Epoch 14/15\n",
            "401/401 [==============================] - 48s 120ms/step - loss: 0.1865 - accuracy: 0.9258 - val_loss: 0.6114 - val_accuracy: 0.7731\n",
            "Epoch 15/15\n",
            "401/401 [==============================] - 48s 120ms/step - loss: 0.1604 - accuracy: 0.9372 - val_loss: 0.6526 - val_accuracy: 0.7647\n"
          ]
        }
      ],
      "source": [
        "history = model.fit_generator(generator = training_set, steps_per_epoch = 401, epochs = 15,\n",
        "                    validation_data= test_set, validation_steps = 102)"
      ]
    },
    {
      "cell_type": "markdown",
      "metadata": {
        "id": "wzeS3VZ0GnG0"
      },
      "source": [
        "# Step 5: Plotting Learning Curve"
      ]
    },
    {
      "cell_type": "code",
      "execution_count": 33,
      "metadata": {
        "id": "g4G_oPrZGr1a"
      },
      "outputs": [],
      "source": [
        "def learning_curve(history, epochs):\n",
        "  epoch_range = range(1, epochs+1)\n",
        "  plt.plot(epoch_range, history.history['accuracy'])\n",
        "  plt.plot(epoch_range, history.history['val_accuracy'])\n",
        "  plt.title(\"Model accuracy\")\n",
        "  plt.ylabel('Accuracy')\n",
        "  plt.xlabel('Epochs')\n",
        "  plt.legend(['Train', 'val'], loc = 'upper left')\n",
        "  plt.show\n",
        "\n",
        "\n",
        "  plt.plot(epoch_range, history.history['loss'])\n",
        "  plt.plot(epoch_range, history.history['val_loss'])\n",
        "  plt.title(\"Model loss\")\n",
        "  plt.ylabel('loss')\n",
        "  plt.xlabel('Epochs')\n",
        "  plt.legend(['Train', 'val'], loc = 'upper left')\n",
        "  plt.show"
      ]
    },
    {
      "cell_type": "code",
      "execution_count": 34,
      "metadata": {
        "colab": {
          "base_uri": "https://localhost:8080/",
          "height": 472
        },
        "id": "4oyqYMo4Hq_h",
        "outputId": "6596f932-2eaa-430a-d3d1-a64c2d02f575"
      },
      "outputs": [
        {
          "output_type": "display_data",
          "data": {
            "text/plain": [
              "<Figure size 640x480 with 1 Axes>"
            ],
            "image/png": "[encoded data removed]"
          },
          "metadata": {}
        }
      ],
      "source": [
        "learning_curve(history, 15)"
      ]
    },
    {
      "cell_type": "code",
      "execution_count": null,
      "metadata": {
        "colab": {
          "background_save": true
        },
        "id": "FSMr101lHu1e"
      },
      "outputs": [],
      "source": []
    }
  ],
  "metadata": {
    "colab": {
      "toc_visible": true,
      "provenance": [],
      "authorship_tag": "ABX9TyPkoxC13lbA7U9VTzdyLOOD",
      "include_colab_link": true
    },
    "kernelspec": {
      "display_name": "Python 3",
      "name": "python3"
    },
    "language_info": {
      "name": "python"
    }
  },
  "nbformat": 4,
  "nbformat_minor": 0
}