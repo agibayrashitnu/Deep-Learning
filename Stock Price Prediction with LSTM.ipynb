{
  "nbformat": 4,
  "nbformat_minor": 0,
  "metadata": {
    "colab": {
      "provenance": [],
      "authorship_tag": "ABX9TyNe6HMOPxiovK9q8y1OHLie",
      "include_colab_link": true
    },
    "kernelspec": {
      "name": "python3",
      "display_name": "Python 3"
    },
    "language_info": {
      "name": "python"
    }
  },
  "cells": [
    {
      "cell_type": "markdown",
      "metadata": {
        "id": "view-in-github",
        "colab_type": "text"
      },
      "source": [
        "<a href=\"https://colab.research.google.com/github/agibayrashitnu/Deep-Learning/blob/main/Stock%20Price%20Prediction%20with%20LSTM.ipynb\" target=\"_parent\"><img src=\"https://colab.research.google.com/assets/colab-badge.svg\" alt=\"Open In Colab\"/></a>"
      ]
    },
    {
      "cell_type": "code",
      "execution_count": null,
      "metadata": {
        "id": "Iyd1bzo8FRVa"
      },
      "outputs": [],
      "source": [
        "pip install tensorflow-gpu"
      ]
    },
    {
      "cell_type": "code",
      "source": [
        "import tensorflow as tf\n",
        "import pandas as pd\n",
        "import numpy as np\n",
        "import matplotlib.pyplot as plt"
      ],
      "metadata": {
        "id": "-gED9uU_FUjd"
      },
      "execution_count": null,
      "outputs": []
    },
    {
      "cell_type": "code",
      "source": [
        "from google.colab import files\n",
        "uploaded = files.upload()"
      ],
      "metadata": {
        "colab": {
          "base_uri": "https://localhost:8080/",
          "height": 109
        },
        "id": "rYh4BRpoFY9H",
        "outputId": "c5a620b0-74b1-48c5-d12d-12f28509f5e1"
      },
      "execution_count": null,
      "outputs": [
        {
          "output_type": "display_data",
          "data": {
            "text/plain": [
              "<IPython.core.display.HTML object>"
            ],
            "text/html": [
              "\n",
              "     <input type=\"file\" id=\"files-3b31e38d-6c82-4f39-aca3-65d5e5c4c020\" name=\"files[]\" multiple disabled\n",
              "        style=\"border:none\" />\n",
              "     <output id=\"result-3b31e38d-6c82-4f39-aca3-65d5e5c4c020\">\n",
              "      Upload widget is only available when the cell has been executed in the\n",
              "      current browser session. Please rerun this cell to enable.\n",
              "      </output>\n",
              "      <script>// Copyright 2017 Google LLC\n",
              "//\n",
              "// Licensed under the Apache License, Version 2.0 (the \"License\");\n",
              "// you may not use this file except in compliance with the License.\n",
              "// You may obtain a copy of the License at\n",
              "//\n",
              "//      http://www.apache.org/licenses/LICENSE-2.0\n",
              "//\n",
              "// Unless required by applicable law or agreed to in writing, software\n",
              "// distributed under the License is distributed on an \"AS IS\" BASIS,\n",
              "// WITHOUT WARRANTIES OR CONDITIONS OF ANY KIND, either express or implied.\n",
              "// See the License for the specific language governing permissions and\n",
              "// limitations under the License.\n",
              "\n",
              "/**\n",
              " * @fileoverview Helpers for google.colab Python module.\n",
              " */\n",
              "(function(scope) {\n",
              "function span(text, styleAttributes = {}) {\n",
              "  const element = document.createElement('span');\n",
              "  element.textContent = text;\n",
              "  for (const key of Object.keys(styleAttributes)) {\n",
              "    element.style[key] = styleAttributes[key];\n",
              "  }\n",
              "  return element;\n",
              "}\n",
              "\n",
              "// Max number of bytes which will be uploaded at a time.\n",
              "const MAX_PAYLOAD_SIZE = 100 * 1024;\n",
              "\n",
              "function _uploadFiles(inputId, outputId) {\n",
              "  const steps = uploadFilesStep(inputId, outputId);\n",
              "  const outputElement = document.getElementById(outputId);\n",
              "  // Cache steps on the outputElement to make it available for the next call\n",
              "  // to uploadFilesContinue from Python.\n",
              "  outputElement.steps = steps;\n",
              "\n",
              "  return _uploadFilesContinue(outputId);\n",
              "}\n",
              "\n",
              "// This is roughly an async generator (not supported in the browser yet),\n",
              "// where there are multiple asynchronous steps and the Python side is going\n",
              "// to poll for completion of each step.\n",
              "// This uses a Promise to block the python side on completion of each step,\n",
              "// then passes the result of the previous step as the input to the next step.\n",
              "function _uploadFilesContinue(outputId) {\n",
              "  const outputElement = document.getElementById(outputId);\n",
              "  const steps = outputElement.steps;\n",
              "\n",
              "  const next = steps.next(outputElement.lastPromiseValue);\n",
              "  return Promise.resolve(next.value.promise).then((value) => {\n",
              "    // Cache the last promise value to make it available to the next\n",
              "    // step of the generator.\n",
              "    outputElement.lastPromiseValue = value;\n",
              "    return next.value.response;\n",
              "  });\n",
              "}\n",
              "\n",
              "/**\n",
              " * Generator function which is called between each async step of the upload\n",
              " * process.\n",
              " * @param {string} inputId Element ID of the input file picker element.\n",
              " * @param {string} outputId Element ID of the output display.\n",
              " * @return {!Iterable<!Object>} Iterable of next steps.\n",
              " */\n",
              "function* uploadFilesStep(inputId, outputId) {\n",
              "  const inputElement = document.getElementById(inputId);\n",
              "  inputElement.disabled = false;\n",
              "\n",
              "  const outputElement = document.getElementById(outputId);\n",
              "  outputElement.innerHTML = '';\n",
              "\n",
              "  const pickedPromise = new Promise((resolve) => {\n",
              "    inputElement.addEventListener('change', (e) => {\n",
              "      resolve(e.target.files);\n",
              "    });\n",
              "  });\n",
              "\n",
              "  const cancel = document.createElement('button');\n",
              "  inputElement.parentElement.appendChild(cancel);\n",
              "  cancel.textContent = 'Cancel upload';\n",
              "  const cancelPromise = new Promise((resolve) => {\n",
              "    cancel.onclick = () => {\n",
              "      resolve(null);\n",
              "    };\n",
              "  });\n",
              "\n",
              "  // Wait for the user to pick the files.\n",
              "  const files = yield {\n",
              "    promise: Promise.race([pickedPromise, cancelPromise]),\n",
              "    response: {\n",
              "      action: 'starting',\n",
              "    }\n",
              "  };\n",
              "\n",
              "  cancel.remove();\n",
              "\n",
              "  // Disable the input element since further picks are not allowed.\n",
              "  inputElement.disabled = true;\n",
              "\n",
              "  if (!files) {\n",
              "    return {\n",
              "      response: {\n",
              "        action: 'complete',\n",
              "      }\n",
              "    };\n",
              "  }\n",
              "\n",
              "  for (const file of files) {\n",
              "    const li = document.createElement('li');\n",
              "    li.append(span(file.name, {fontWeight: 'bold'}));\n",
              "    li.append(span(\n",
              "        `(${file.type || 'n/a'}) - ${file.size} bytes, ` +\n",
              "        `last modified: ${\n",
              "            file.lastModifiedDate ? file.lastModifiedDate.toLocaleDateString() :\n",
              "                                    'n/a'} - `));\n",
              "    const percent = span('0% done');\n",
              "    li.appendChild(percent);\n",
              "\n",
              "    outputElement.appendChild(li);\n",
              "\n",
              "    const fileDataPromise = new Promise((resolve) => {\n",
              "      const reader = new FileReader();\n",
              "      reader.onload = (e) => {\n",
              "        resolve(e.target.result);\n",
              "      };\n",
              "      reader.readAsArrayBuffer(file);\n",
              "    });\n",
              "    // Wait for the data to be ready.\n",
              "    let fileData = yield {\n",
              "      promise: fileDataPromise,\n",
              "      response: {\n",
              "        action: 'continue',\n",
              "      }\n",
              "    };\n",
              "\n",
              "    // Use a chunked sending to avoid message size limits. See b/62115660.\n",
              "    let position = 0;\n",
              "    do {\n",
              "      const length = Math.min(fileData.byteLength - position, MAX_PAYLOAD_SIZE);\n",
              "      const chunk = new Uint8Array(fileData, position, length);\n",
              "      position += length;\n",
              "\n",
              "      const base64 = btoa(String.fromCharCode.apply(null, chunk));\n",
              "      yield {\n",
              "        response: {\n",
              "          action: 'append',\n",
              "          file: file.name,\n",
              "          data: base64,\n",
              "        },\n",
              "      };\n",
              "\n",
              "      let percentDone = fileData.byteLength === 0 ?\n",
              "          100 :\n",
              "          Math.round((position / fileData.byteLength) * 100);\n",
              "      percent.textContent = `${percentDone}% done`;\n",
              "\n",
              "    } while (position < fileData.byteLength);\n",
              "  }\n",
              "\n",
              "  // All done.\n",
              "  yield {\n",
              "    response: {\n",
              "      action: 'complete',\n",
              "    }\n",
              "  };\n",
              "}\n",
              "\n",
              "scope.google = scope.google || {};\n",
              "scope.google.colab = scope.google.colab || {};\n",
              "scope.google.colab._files = {\n",
              "  _uploadFiles,\n",
              "  _uploadFilesContinue,\n",
              "};\n",
              "})(self);\n",
              "</script> "
            ]
          },
          "metadata": {}
        },
        {
          "output_type": "stream",
          "name": "stdout",
          "text": [
            "Saving test_set.csv to test_set.csv\n",
            "Saving train_set.csv to train_set.csv\n"
          ]
        }
      ]
    },
    {
      "cell_type": "code",
      "source": [
        "training_data = pd.read_csv('/content/train_set.csv')\n",
        "training_data.head()"
      ],
      "metadata": {
        "colab": {
          "base_uri": "https://localhost:8080/",
          "height": 206
        },
        "id": "yAMrFLaiWTVM",
        "outputId": "1cc7aab1-8a06-4362-b20f-118de6ae4dc5"
      },
      "execution_count": null,
      "outputs": [
        {
          "output_type": "execute_result",
          "data": {
            "text/plain": [
              "         Date       Open       High        Low    Close  Adj Close     Volume\n",
              "0  2015-09-21  28.417500  28.842501  28.415001  28.8025  26.144228  200888000\n",
              "1  2015-09-22  28.344999  28.545000  28.129999  28.3500  25.733496  201384800\n",
              "2  2015-09-23  28.407499  28.680000  28.325001  28.5800  25.942265  143026800\n",
              "3  2015-09-24  28.312500  28.875000  28.092501  28.7500  26.096577  200878000\n",
              "4  2015-09-25  29.110001  29.172501  28.504999  28.6775  26.030764  224607600"
            ],
            "text/html": [
              "\n",
              "  <div id=\"df-fd018596-1c51-46a3-b4c5-022549381c51\" class=\"colab-df-container\">\n",
              "    <div>\n",
              "<style scoped>\n",
              "    .dataframe tbody tr th:only-of-type {\n",
              "        vertical-align: middle;\n",
              "    }\n",
              "\n",
              "    .dataframe tbody tr th {\n",
              "        vertical-align: top;\n",
              "    }\n",
              "\n",
              "    .dataframe thead th {\n",
              "        text-align: right;\n",
              "    }\n",
              "</style>\n",
              "<table border=\"1\" class=\"dataframe\">\n",
              "  <thead>\n",
              "    <tr style=\"text-align: right;\">\n",
              "      <th></th>\n",
              "      <th>Date</th>\n",
              "      <th>Open</th>\n",
              "      <th>High</th>\n",
              "      <th>Low</th>\n",
              "      <th>Close</th>\n",
              "      <th>Adj Close</th>\n",
              "      <th>Volume</th>\n",
              "    </tr>\n",
              "  </thead>\n",
              "  <tbody>\n",
              "    <tr>\n",
              "      <th>0</th>\n",
              "      <td>2015-09-21</td>\n",
              "      <td>28.417500</td>\n",
              "      <td>28.842501</td>\n",
              "      <td>28.415001</td>\n",
              "      <td>28.8025</td>\n",
              "      <td>26.144228</td>\n",
              "      <td>200888000</td>\n",
              "    </tr>\n",
              "    <tr>\n",
              "      <th>1</th>\n",
              "      <td>2015-09-22</td>\n",
              "      <td>28.344999</td>\n",
              "      <td>28.545000</td>\n",
              "      <td>28.129999</td>\n",
              "      <td>28.3500</td>\n",
              "      <td>25.733496</td>\n",
              "      <td>201384800</td>\n",
              "    </tr>\n",
              "    <tr>\n",
              "      <th>2</th>\n",
              "      <td>2015-09-23</td>\n",
              "      <td>28.407499</td>\n",
              "      <td>28.680000</td>\n",
              "      <td>28.325001</td>\n",
              "      <td>28.5800</td>\n",
              "      <td>25.942265</td>\n",
              "      <td>143026800</td>\n",
              "    </tr>\n",
              "    <tr>\n",
              "      <th>3</th>\n",
              "      <td>2015-09-24</td>\n",
              "      <td>28.312500</td>\n",
              "      <td>28.875000</td>\n",
              "      <td>28.092501</td>\n",
              "      <td>28.7500</td>\n",
              "      <td>26.096577</td>\n",
              "      <td>200878000</td>\n",
              "    </tr>\n",
              "    <tr>\n",
              "      <th>4</th>\n",
              "      <td>2015-09-25</td>\n",
              "      <td>29.110001</td>\n",
              "      <td>29.172501</td>\n",
              "      <td>28.504999</td>\n",
              "      <td>28.6775</td>\n",
              "      <td>26.030764</td>\n",
              "      <td>224607600</td>\n",
              "    </tr>\n",
              "  </tbody>\n",
              "</table>\n",
              "</div>\n",
              "    <div class=\"colab-df-buttons\">\n",
              "\n",
              "  <div class=\"colab-df-container\">\n",
              "    <button class=\"colab-df-convert\" onclick=\"convertToInteractive('df-fd018596-1c51-46a3-b4c5-022549381c51')\"\n",
              "            title=\"Convert this dataframe to an interactive table.\"\n",
              "            style=\"display:none;\">\n",
              "\n",
              "  <svg xmlns=\"http://www.w3.org/2000/svg\" height=\"24px\" viewBox=\"0 -960 960 960\">\n",
              "    <path d=\"M120-120v-720h720v720H120Zm60-500h600v-160H180v160Zm220 220h160v-160H400v160Zm0 220h160v-160H400v160ZM180-400h160v-160H180v160Zm440 0h160v-160H620v160ZM180-180h160v-160H180v160Zm440 0h160v-160H620v160Z\"/>\n",
              "  </svg>\n",
              "    </button>\n",
              "\n",
              "  <style>\n",
              "    .colab-df-container {\n",
              "      display:flex;\n",
              "      gap: 12px;\n",
              "    }\n",
              "\n",
              "    .colab-df-convert {\n",
              "      background-color: #E8F0FE;\n",
              "      border: none;\n",
              "      border-radius: 50%;\n",
              "      cursor: pointer;\n",
              "      display: none;\n",
              "      fill: #1967D2;\n",
              "      height: 32px;\n",
              "      padding: 0 0 0 0;\n",
              "      width: 32px;\n",
              "    }\n",
              "\n",
              "    .colab-df-convert:hover {\n",
              "      background-color: #E2EBFA;\n",
              "      box-shadow: 0px 1px 2px rgba(60, 64, 67, 0.3), 0px 1px 3px 1px rgba(60, 64, 67, 0.15);\n",
              "      fill: #174EA6;\n",
              "    }\n",
              "\n",
              "    .colab-df-buttons div {\n",
              "      margin-bottom: 4px;\n",
              "    }\n",
              "\n",
              "    [theme=dark] .colab-df-convert {\n",
              "      background-color: #3B4455;\n",
              "      fill: #D2E3FC;\n",
              "    }\n",
              "\n",
              "    [theme=dark] .colab-df-convert:hover {\n",
              "      background-color: #434B5C;\n",
              "      box-shadow: 0px 1px 3px 1px rgba(0, 0, 0, 0.15);\n",
              "      filter: drop-shadow(0px 1px 2px rgba(0, 0, 0, 0.3));\n",
              "      fill: #FFFFFF;\n",
              "    }\n",
              "  </style>\n",
              "\n",
              "    <script>\n",
              "      const buttonEl =\n",
              "        document.querySelector('#df-fd018596-1c51-46a3-b4c5-022549381c51 button.colab-df-convert');\n",
              "      buttonEl.style.display =\n",
              "        google.colab.kernel.accessAllowed ? 'block' : 'none';\n",
              "\n",
              "      async function convertToInteractive(key) {\n",
              "        const element = document.querySelector('#df-fd018596-1c51-46a3-b4c5-022549381c51');\n",
              "        const dataTable =\n",
              "          await google.colab.kernel.invokeFunction('convertToInteractive',\n",
              "                                                    [key], {});\n",
              "        if (!dataTable) return;\n",
              "\n",
              "        const docLinkHtml = 'Like what you see? Visit the ' +\n",
              "          '<a target=\"_blank\" href=https://colab.research.google.com/notebooks/data_table.ipynb>data table notebook</a>'\n",
              "          + ' to learn more about interactive tables.';\n",
              "        element.innerHTML = '';\n",
              "        dataTable['output_type'] = 'display_data';\n",
              "        await google.colab.output.renderOutput(dataTable, element);\n",
              "        const docLink = document.createElement('div');\n",
              "        docLink.innerHTML = docLinkHtml;\n",
              "        element.appendChild(docLink);\n",
              "      }\n",
              "    </script>\n",
              "  </div>\n",
              "\n",
              "\n",
              "<div id=\"df-9e3a0eb1-87e2-4bc3-881f-8d7a55c3b311\">\n",
              "  <button class=\"colab-df-quickchart\" onclick=\"quickchart('df-9e3a0eb1-87e2-4bc3-881f-8d7a55c3b311')\"\n",
              "            title=\"Suggest charts.\"\n",
              "            style=\"display:none;\">\n",
              "\n",
              "<svg xmlns=\"http://www.w3.org/2000/svg\" height=\"24px\"viewBox=\"0 0 24 24\"\n",
              "     width=\"24px\">\n",
              "    <g>\n",
              "        <path d=\"M19 3H5c-1.1 0-2 .9-2 2v14c0 1.1.9 2 2 2h14c1.1 0 2-.9 2-2V5c0-1.1-.9-2-2-2zM9 17H7v-7h2v7zm4 0h-2V7h2v10zm4 0h-2v-4h2v4z\"/>\n",
              "    </g>\n",
              "</svg>\n",
              "  </button>\n",
              "\n",
              "<style>\n",
              "  .colab-df-quickchart {\n",
              "      --bg-color: #E8F0FE;\n",
              "      --fill-color: #1967D2;\n",
              "      --hover-bg-color: #E2EBFA;\n",
              "      --hover-fill-color: #174EA6;\n",
              "      --disabled-fill-color: #AAA;\n",
              "      --disabled-bg-color: #DDD;\n",
              "  }\n",
              "\n",
              "  [theme=dark] .colab-df-quickchart {\n",
              "      --bg-color: #3B4455;\n",
              "      --fill-color: #D2E3FC;\n",
              "      --hover-bg-color: #434B5C;\n",
              "      --hover-fill-color: #FFFFFF;\n",
              "      --disabled-bg-color: #3B4455;\n",
              "      --disabled-fill-color: #666;\n",
              "  }\n",
              "\n",
              "  .colab-df-quickchart {\n",
              "    background-color: var(--bg-color);\n",
              "    border: none;\n",
              "    border-radius: 50%;\n",
              "    cursor: pointer;\n",
              "    display: none;\n",
              "    fill: var(--fill-color);\n",
              "    height: 32px;\n",
              "    padding: 0;\n",
              "    width: 32px;\n",
              "  }\n",
              "\n",
              "  .colab-df-quickchart:hover {\n",
              "    background-color: var(--hover-bg-color);\n",
              "    box-shadow: 0 1px 2px rgba(60, 64, 67, 0.3), 0 1px 3px 1px rgba(60, 64, 67, 0.15);\n",
              "    fill: var(--button-hover-fill-color);\n",
              "  }\n",
              "\n",
              "  .colab-df-quickchart-complete:disabled,\n",
              "  .colab-df-quickchart-complete:disabled:hover {\n",
              "    background-color: var(--disabled-bg-color);\n",
              "    fill: var(--disabled-fill-color);\n",
              "    box-shadow: none;\n",
              "  }\n",
              "\n",
              "  .colab-df-spinner {\n",
              "    border: 2px solid var(--fill-color);\n",
              "    border-color: transparent;\n",
              "    border-bottom-color: var(--fill-color);\n",
              "    animation:\n",
              "      spin 1s steps(1) infinite;\n",
              "  }\n",
              "\n",
              "  @keyframes spin {\n",
              "    0% {\n",
              "      border-color: transparent;\n",
              "      border-bottom-color: var(--fill-color);\n",
              "      border-left-color: var(--fill-color);\n",
              "    }\n",
              "    20% {\n",
              "      border-color: transparent;\n",
              "      border-left-color: var(--fill-color);\n",
              "      border-top-color: var(--fill-color);\n",
              "    }\n",
              "    30% {\n",
              "      border-color: transparent;\n",
              "      border-left-color: var(--fill-color);\n",
              "      border-top-color: var(--fill-color);\n",
              "      border-right-color: var(--fill-color);\n",
              "    }\n",
              "    40% {\n",
              "      border-color: transparent;\n",
              "      border-right-color: var(--fill-color);\n",
              "      border-top-color: var(--fill-color);\n",
              "    }\n",
              "    60% {\n",
              "      border-color: transparent;\n",
              "      border-right-color: var(--fill-color);\n",
              "    }\n",
              "    80% {\n",
              "      border-color: transparent;\n",
              "      border-right-color: var(--fill-color);\n",
              "      border-bottom-color: var(--fill-color);\n",
              "    }\n",
              "    90% {\n",
              "      border-color: transparent;\n",
              "      border-bottom-color: var(--fill-color);\n",
              "    }\n",
              "  }\n",
              "</style>\n",
              "\n",
              "  <script>\n",
              "    async function quickchart(key) {\n",
              "      const quickchartButtonEl =\n",
              "        document.querySelector('#' + key + ' button');\n",
              "      quickchartButtonEl.disabled = true;  // To prevent multiple clicks.\n",
              "      quickchartButtonEl.classList.add('colab-df-spinner');\n",
              "      try {\n",
              "        const charts = await google.colab.kernel.invokeFunction(\n",
              "            'suggestCharts', [key], {});\n",
              "      } catch (error) {\n",
              "        console.error('Error during call to suggestCharts:', error);\n",
              "      }\n",
              "      quickchartButtonEl.classList.remove('colab-df-spinner');\n",
              "      quickchartButtonEl.classList.add('colab-df-quickchart-complete');\n",
              "    }\n",
              "    (() => {\n",
              "      let quickchartButtonEl =\n",
              "        document.querySelector('#df-9e3a0eb1-87e2-4bc3-881f-8d7a55c3b311 button');\n",
              "      quickchartButtonEl.style.display =\n",
              "        google.colab.kernel.accessAllowed ? 'block' : 'none';\n",
              "    })();\n",
              "  </script>\n",
              "</div>\n",
              "    </div>\n",
              "  </div>\n"
            ]
          },
          "metadata": {},
          "execution_count": 5
        }
      ]
    },
    {
      "cell_type": "code",
      "source": [
        "training_data.tail()"
      ],
      "metadata": {
        "colab": {
          "base_uri": "https://localhost:8080/",
          "height": 206
        },
        "id": "0VBD2gNCWmvc",
        "outputId": "f7cb2e41-571a-4cab-f740-108d884d0e82"
      },
      "execution_count": null,
      "outputs": [
        {
          "output_type": "execute_result",
          "data": {
            "text/plain": [
              "            Date        Open        High         Low       Close   Adj Close  \\\n",
              "1987  2023-08-14  177.970001  179.690002  177.309998  179.460007  179.460007   \n",
              "1988  2023-08-15  178.880005  179.479996  177.050003  177.449997  177.449997   \n",
              "1989  2023-08-16  177.130005  178.539993  176.500000  176.570007  176.570007   \n",
              "1990  2023-08-17  177.139999  177.509995  173.479996  174.000000  174.000000   \n",
              "1991  2023-08-18  172.300003  175.100006  171.960007  174.490005  174.490005   \n",
              "\n",
              "        Volume  \n",
              "1987  43675600  \n",
              "1988  43622600  \n",
              "1989  46964900  \n",
              "1990  66062900  \n",
              "1991  61114200  "
            ],
            "text/html": [
              "\n",
              "  <div id=\"df-75c9bc7b-d8f6-42b9-adf5-430d819b06ff\" class=\"colab-df-container\">\n",
              "    <div>\n",
              "<style scoped>\n",
              "    .dataframe tbody tr th:only-of-type {\n",
              "        vertical-align: middle;\n",
              "    }\n",
              "\n",
              "    .dataframe tbody tr th {\n",
              "        vertical-align: top;\n",
              "    }\n",
              "\n",
              "    .dataframe thead th {\n",
              "        text-align: right;\n",
              "    }\n",
              "</style>\n",
              "<table border=\"1\" class=\"dataframe\">\n",
              "  <thead>\n",
              "    <tr style=\"text-align: right;\">\n",
              "      <th></th>\n",
              "      <th>Date</th>\n",
              "      <th>Open</th>\n",
              "      <th>High</th>\n",
              "      <th>Low</th>\n",
              "      <th>Close</th>\n",
              "      <th>Adj Close</th>\n",
              "      <th>Volume</th>\n",
              "    </tr>\n",
              "  </thead>\n",
              "  <tbody>\n",
              "    <tr>\n",
              "      <th>1987</th>\n",
              "      <td>2023-08-14</td>\n",
              "      <td>177.970001</td>\n",
              "      <td>179.690002</td>\n",
              "      <td>177.309998</td>\n",
              "      <td>179.460007</td>\n",
              "      <td>179.460007</td>\n",
              "      <td>43675600</td>\n",
              "    </tr>\n",
              "    <tr>\n",
              "      <th>1988</th>\n",
              "      <td>2023-08-15</td>\n",
              "      <td>178.880005</td>\n",
              "      <td>179.479996</td>\n",
              "      <td>177.050003</td>\n",
              "      <td>177.449997</td>\n",
              "      <td>177.449997</td>\n",
              "      <td>43622600</td>\n",
              "    </tr>\n",
              "    <tr>\n",
              "      <th>1989</th>\n",
              "      <td>2023-08-16</td>\n",
              "      <td>177.130005</td>\n",
              "      <td>178.539993</td>\n",
              "      <td>176.500000</td>\n",
              "      <td>176.570007</td>\n",
              "      <td>176.570007</td>\n",
              "      <td>46964900</td>\n",
              "    </tr>\n",
              "    <tr>\n",
              "      <th>1990</th>\n",
              "      <td>2023-08-17</td>\n",
              "      <td>177.139999</td>\n",
              "      <td>177.509995</td>\n",
              "      <td>173.479996</td>\n",
              "      <td>174.000000</td>\n",
              "      <td>174.000000</td>\n",
              "      <td>66062900</td>\n",
              "    </tr>\n",
              "    <tr>\n",
              "      <th>1991</th>\n",
              "      <td>2023-08-18</td>\n",
              "      <td>172.300003</td>\n",
              "      <td>175.100006</td>\n",
              "      <td>171.960007</td>\n",
              "      <td>174.490005</td>\n",
              "      <td>174.490005</td>\n",
              "      <td>61114200</td>\n",
              "    </tr>\n",
              "  </tbody>\n",
              "</table>\n",
              "</div>\n",
              "    <div class=\"colab-df-buttons\">\n",
              "\n",
              "  <div class=\"colab-df-container\">\n",
              "    <button class=\"colab-df-convert\" onclick=\"convertToInteractive('df-75c9bc7b-d8f6-42b9-adf5-430d819b06ff')\"\n",
              "            title=\"Convert this dataframe to an interactive table.\"\n",
              "            style=\"display:none;\">\n",
              "\n",
              "  <svg xmlns=\"http://www.w3.org/2000/svg\" height=\"24px\" viewBox=\"0 -960 960 960\">\n",
              "    <path d=\"M120-120v-720h720v720H120Zm60-500h600v-160H180v160Zm220 220h160v-160H400v160Zm0 220h160v-160H400v160ZM180-400h160v-160H180v160Zm440 0h160v-160H620v160ZM180-180h160v-160H180v160Zm440 0h160v-160H620v160Z\"/>\n",
              "  </svg>\n",
              "    </button>\n",
              "\n",
              "  <style>\n",
              "    .colab-df-container {\n",
              "      display:flex;\n",
              "      gap: 12px;\n",
              "    }\n",
              "\n",
              "    .colab-df-convert {\n",
              "      background-color: #E8F0FE;\n",
              "      border: none;\n",
              "      border-radius: 50%;\n",
              "      cursor: pointer;\n",
              "      display: none;\n",
              "      fill: #1967D2;\n",
              "      height: 32px;\n",
              "      padding: 0 0 0 0;\n",
              "      width: 32px;\n",
              "    }\n",
              "\n",
              "    .colab-df-convert:hover {\n",
              "      background-color: #E2EBFA;\n",
              "      box-shadow: 0px 1px 2px rgba(60, 64, 67, 0.3), 0px 1px 3px 1px rgba(60, 64, 67, 0.15);\n",
              "      fill: #174EA6;\n",
              "    }\n",
              "\n",
              "    .colab-df-buttons div {\n",
              "      margin-bottom: 4px;\n",
              "    }\n",
              "\n",
              "    [theme=dark] .colab-df-convert {\n",
              "      background-color: #3B4455;\n",
              "      fill: #D2E3FC;\n",
              "    }\n",
              "\n",
              "    [theme=dark] .colab-df-convert:hover {\n",
              "      background-color: #434B5C;\n",
              "      box-shadow: 0px 1px 3px 1px rgba(0, 0, 0, 0.15);\n",
              "      filter: drop-shadow(0px 1px 2px rgba(0, 0, 0, 0.3));\n",
              "      fill: #FFFFFF;\n",
              "    }\n",
              "  </style>\n",
              "\n",
              "    <script>\n",
              "      const buttonEl =\n",
              "        document.querySelector('#df-75c9bc7b-d8f6-42b9-adf5-430d819b06ff button.colab-df-convert');\n",
              "      buttonEl.style.display =\n",
              "        google.colab.kernel.accessAllowed ? 'block' : 'none';\n",
              "\n",
              "      async function convertToInteractive(key) {\n",
              "        const element = document.querySelector('#df-75c9bc7b-d8f6-42b9-adf5-430d819b06ff');\n",
              "        const dataTable =\n",
              "          await google.colab.kernel.invokeFunction('convertToInteractive',\n",
              "                                                    [key], {});\n",
              "        if (!dataTable) return;\n",
              "\n",
              "        const docLinkHtml = 'Like what you see? Visit the ' +\n",
              "          '<a target=\"_blank\" href=https://colab.research.google.com/notebooks/data_table.ipynb>data table notebook</a>'\n",
              "          + ' to learn more about interactive tables.';\n",
              "        element.innerHTML = '';\n",
              "        dataTable['output_type'] = 'display_data';\n",
              "        await google.colab.output.renderOutput(dataTable, element);\n",
              "        const docLink = document.createElement('div');\n",
              "        docLink.innerHTML = docLinkHtml;\n",
              "        element.appendChild(docLink);\n",
              "      }\n",
              "    </script>\n",
              "  </div>\n",
              "\n",
              "\n",
              "<div id=\"df-017f6608-d4a2-4ed2-9021-80336e919e59\">\n",
              "  <button class=\"colab-df-quickchart\" onclick=\"quickchart('df-017f6608-d4a2-4ed2-9021-80336e919e59')\"\n",
              "            title=\"Suggest charts.\"\n",
              "            style=\"display:none;\">\n",
              "\n",
              "<svg xmlns=\"http://www.w3.org/2000/svg\" height=\"24px\"viewBox=\"0 0 24 24\"\n",
              "     width=\"24px\">\n",
              "    <g>\n",
              "        <path d=\"M19 3H5c-1.1 0-2 .9-2 2v14c0 1.1.9 2 2 2h14c1.1 0 2-.9 2-2V5c0-1.1-.9-2-2-2zM9 17H7v-7h2v7zm4 0h-2V7h2v10zm4 0h-2v-4h2v4z\"/>\n",
              "    </g>\n",
              "</svg>\n",
              "  </button>\n",
              "\n",
              "<style>\n",
              "  .colab-df-quickchart {\n",
              "      --bg-color: #E8F0FE;\n",
              "      --fill-color: #1967D2;\n",
              "      --hover-bg-color: #E2EBFA;\n",
              "      --hover-fill-color: #174EA6;\n",
              "      --disabled-fill-color: #AAA;\n",
              "      --disabled-bg-color: #DDD;\n",
              "  }\n",
              "\n",
              "  [theme=dark] .colab-df-quickchart {\n",
              "      --bg-color: #3B4455;\n",
              "      --fill-color: #D2E3FC;\n",
              "      --hover-bg-color: #434B5C;\n",
              "      --hover-fill-color: #FFFFFF;\n",
              "      --disabled-bg-color: #3B4455;\n",
              "      --disabled-fill-color: #666;\n",
              "  }\n",
              "\n",
              "  .colab-df-quickchart {\n",
              "    background-color: var(--bg-color);\n",
              "    border: none;\n",
              "    border-radius: 50%;\n",
              "    cursor: pointer;\n",
              "    display: none;\n",
              "    fill: var(--fill-color);\n",
              "    height: 32px;\n",
              "    padding: 0;\n",
              "    width: 32px;\n",
              "  }\n",
              "\n",
              "  .colab-df-quickchart:hover {\n",
              "    background-color: var(--hover-bg-color);\n",
              "    box-shadow: 0 1px 2px rgba(60, 64, 67, 0.3), 0 1px 3px 1px rgba(60, 64, 67, 0.15);\n",
              "    fill: var(--button-hover-fill-color);\n",
              "  }\n",
              "\n",
              "  .colab-df-quickchart-complete:disabled,\n",
              "  .colab-df-quickchart-complete:disabled:hover {\n",
              "    background-color: var(--disabled-bg-color);\n",
              "    fill: var(--disabled-fill-color);\n",
              "    box-shadow: none;\n",
              "  }\n",
              "\n",
              "  .colab-df-spinner {\n",
              "    border: 2px solid var(--fill-color);\n",
              "    border-color: transparent;\n",
              "    border-bottom-color: var(--fill-color);\n",
              "    animation:\n",
              "      spin 1s steps(1) infinite;\n",
              "  }\n",
              "\n",
              "  @keyframes spin {\n",
              "    0% {\n",
              "      border-color: transparent;\n",
              "      border-bottom-color: var(--fill-color);\n",
              "      border-left-color: var(--fill-color);\n",
              "    }\n",
              "    20% {\n",
              "      border-color: transparent;\n",
              "      border-left-color: var(--fill-color);\n",
              "      border-top-color: var(--fill-color);\n",
              "    }\n",
              "    30% {\n",
              "      border-color: transparent;\n",
              "      border-left-color: var(--fill-color);\n",
              "      border-top-color: var(--fill-color);\n",
              "      border-right-color: var(--fill-color);\n",
              "    }\n",
              "    40% {\n",
              "      border-color: transparent;\n",
              "      border-right-color: var(--fill-color);\n",
              "      border-top-color: var(--fill-color);\n",
              "    }\n",
              "    60% {\n",
              "      border-color: transparent;\n",
              "      border-right-color: var(--fill-color);\n",
              "    }\n",
              "    80% {\n",
              "      border-color: transparent;\n",
              "      border-right-color: var(--fill-color);\n",
              "      border-bottom-color: var(--fill-color);\n",
              "    }\n",
              "    90% {\n",
              "      border-color: transparent;\n",
              "      border-bottom-color: var(--fill-color);\n",
              "    }\n",
              "  }\n",
              "</style>\n",
              "\n",
              "  <script>\n",
              "    async function quickchart(key) {\n",
              "      const quickchartButtonEl =\n",
              "        document.querySelector('#' + key + ' button');\n",
              "      quickchartButtonEl.disabled = true;  // To prevent multiple clicks.\n",
              "      quickchartButtonEl.classList.add('colab-df-spinner');\n",
              "      try {\n",
              "        const charts = await google.colab.kernel.invokeFunction(\n",
              "            'suggestCharts', [key], {});\n",
              "      } catch (error) {\n",
              "        console.error('Error during call to suggestCharts:', error);\n",
              "      }\n",
              "      quickchartButtonEl.classList.remove('colab-df-spinner');\n",
              "      quickchartButtonEl.classList.add('colab-df-quickchart-complete');\n",
              "    }\n",
              "    (() => {\n",
              "      let quickchartButtonEl =\n",
              "        document.querySelector('#df-017f6608-d4a2-4ed2-9021-80336e919e59 button');\n",
              "      quickchartButtonEl.style.display =\n",
              "        google.colab.kernel.accessAllowed ? 'block' : 'none';\n",
              "    })();\n",
              "  </script>\n",
              "</div>\n",
              "    </div>\n",
              "  </div>\n"
            ]
          },
          "metadata": {},
          "execution_count": 6
        }
      ]
    },
    {
      "cell_type": "code",
      "source": [
        "training_data.info()"
      ],
      "metadata": {
        "id": "a6OVJWtnWye2"
      },
      "execution_count": null,
      "outputs": []
    },
    {
      "cell_type": "code",
      "source": [
        "training_set = training_data.iloc[:,1:2].values\n",
        "training_set"
      ],
      "metadata": {
        "id": "V2bNK-pEW2f_"
      },
      "execution_count": null,
      "outputs": []
    },
    {
      "cell_type": "code",
      "source": [
        "training_set.shape, training_data.shape"
      ],
      "metadata": {
        "id": "KIUj7MZAXEP5"
      },
      "execution_count": null,
      "outputs": []
    },
    {
      "cell_type": "code",
      "source": [
        "#feature scaling\n",
        "from sklearn.preprocessing import MinMaxScaler\n",
        "sc = MinMaxScaler(feature_range=(0,1))\n",
        "training_set_scaled = sc.fit_transform(training_set)\n",
        "training_set_scaled"
      ],
      "metadata": {
        "id": "3WCZcI9TXVEK"
      },
      "execution_count": null,
      "outputs": []
    },
    {
      "cell_type": "code",
      "source": [
        "#Creating a data structure with 60 timesteps and 1 output\n",
        "x_train = []\n",
        "y_train = []\n",
        "for i in range(60,1992):\n",
        "  x_train.append(training_set_scaled[i-60:i,0])\n",
        "  y_train.append(training_set_scaled[i,0])\n",
        "\n",
        "x_train, y_train = np.array(x_train), np.array(y_train)"
      ],
      "metadata": {
        "id": "jpbKJDRoXx6b"
      },
      "execution_count": null,
      "outputs": []
    },
    {
      "cell_type": "code",
      "source": [
        " x_train, y_train"
      ],
      "metadata": {
        "id": "rplTSe_DY0Iy"
      },
      "execution_count": null,
      "outputs": []
    },
    {
      "cell_type": "code",
      "source": [
        " x_train.shape, y_train.shape"
      ],
      "metadata": {
        "colab": {
          "base_uri": "https://localhost:8080/"
        },
        "id": "13WBRzRNY0uT",
        "outputId": "ccaeca17-ee6f-4966-cb3f-f094daeb7bcb"
      },
      "execution_count": null,
      "outputs": [
        {
          "output_type": "execute_result",
          "data": {
            "text/plain": [
              "((1932, 60), (1932,))"
            ]
          },
          "metadata": {},
          "execution_count": 19
        }
      ]
    },
    {
      "cell_type": "code",
      "source": [
        "#reshaping the dataset\n",
        "x_train = x_train.reshape(1932,60,1)"
      ],
      "metadata": {
        "id": "l-IOsOL6ZkOv"
      },
      "execution_count": null,
      "outputs": []
    },
    {
      "cell_type": "markdown",
      "source": [
        "# Building LSTM"
      ],
      "metadata": {
        "id": "rL8IMnPEZ1XM"
      }
    },
    {
      "cell_type": "code",
      "source": [
        "model = tf.keras.models.Sequential()"
      ],
      "metadata": {
        "id": "XAA1sSH8Z3RB"
      },
      "execution_count": null,
      "outputs": []
    },
    {
      "cell_type": "code",
      "source": [
        "model.add(tf.keras.layers.LSTM(units = 60, activation = 'relu',\n",
        "                               return_sequences=True, input_shape=(60,1)))\n",
        "model.add(tf.keras.layers.Dropout(0.2))\n",
        "\n",
        "model.add(tf.keras.layers.LSTM(units = 60, activation = 'relu',\n",
        "                               return_sequences=True))\n",
        "model.add(tf.keras.layers.Dropout(0.2))\n",
        "\n",
        "model.add(tf.keras.layers.LSTM(units = 80, activation = 'relu',\n",
        "                               return_sequences=True))\n",
        "model.add(tf.keras.layers.Dropout(0.2))\n",
        "\n",
        "model.add(tf.keras.layers.LSTM(units = 120, activation = 'relu',))\n",
        "model.add(tf.keras.layers.Dropout(0.2))\n"
      ],
      "metadata": {
        "id": "rmRqH9-rZ_Tt"
      },
      "execution_count": null,
      "outputs": []
    },
    {
      "cell_type": "code",
      "source": [
        "model.add(tf.keras.layers.Dense(units = 1))"
      ],
      "metadata": {
        "id": "BqrwHj8da5KS"
      },
      "execution_count": null,
      "outputs": []
    },
    {
      "cell_type": "code",
      "source": [
        "model.summary()"
      ],
      "metadata": {
        "colab": {
          "base_uri": "https://localhost:8080/"
        },
        "id": "8jjG6OZ_bMKv",
        "outputId": "d965b642-1644-4a6a-9ddc-b00a8f8d6852"
      },
      "execution_count": null,
      "outputs": [
        {
          "output_type": "stream",
          "name": "stdout",
          "text": [
            "Model: \"sequential\"\n",
            "_________________________________________________________________\n",
            " Layer (type)                Output Shape              Param #   \n",
            "=================================================================\n",
            " lstm (LSTM)                 (None, 60, 60)            14880     \n",
            "                                                                 \n",
            " dropout (Dropout)           (None, 60, 60)            0         \n",
            "                                                                 \n",
            " lstm_1 (LSTM)               (None, 60, 60)            29040     \n",
            "                                                                 \n",
            " dropout_1 (Dropout)         (None, 60, 60)            0         \n",
            "                                                                 \n",
            " lstm_2 (LSTM)               (None, 60, 80)            45120     \n",
            "                                                                 \n",
            " dropout_2 (Dropout)         (None, 60, 80)            0         \n",
            "                                                                 \n",
            " lstm_3 (LSTM)               (None, 120)               96480     \n",
            "                                                                 \n",
            " dropout_3 (Dropout)         (None, 120)               0         \n",
            "                                                                 \n",
            " dense (Dense)               (None, 1)                 121       \n",
            "                                                                 \n",
            "=================================================================\n",
            "Total params: 185641 (725.16 KB)\n",
            "Trainable params: 185641 (725.16 KB)\n",
            "Non-trainable params: 0 (0.00 Byte)\n",
            "_________________________________________________________________\n"
          ]
        }
      ]
    },
    {
      "cell_type": "code",
      "source": [
        "model.compile(optimizer='adam', loss='mean_squared_error')"
      ],
      "metadata": {
        "id": "skZ1AQQBbPl_"
      },
      "execution_count": null,
      "outputs": []
    },
    {
      "cell_type": "code",
      "source": [],
      "metadata": {
        "id": "VPFDWud-bj8E"
      },
      "execution_count": null,
      "outputs": []
    },
    {
      "cell_type": "markdown",
      "source": [
        "# Training the model"
      ],
      "metadata": {
        "id": "NBaS-7rFbk9W"
      }
    },
    {
      "cell_type": "code",
      "source": [
        "model.fit(x_train, y_train, batch_size=32, epochs = 100)"
      ],
      "metadata": {
        "colab": {
          "base_uri": "https://localhost:8080/"
        },
        "id": "Hja5fTibbpcV",
        "outputId": "cfb67512-c0ba-43c8-fdcc-edb8ecf1b315"
      },
      "execution_count": null,
      "outputs": [
        {
          "output_type": "stream",
          "name": "stdout",
          "text": [
            "Epoch 1/100\n",
            "61/61 [==============================] - 18s 196ms/step - loss: 0.0340\n",
            "Epoch 2/100\n",
            "61/61 [==============================] - 12s 196ms/step - loss: 0.0037\n",
            "Epoch 3/100\n",
            "61/61 [==============================] - 12s 197ms/step - loss: 0.0032\n",
            "Epoch 4/100\n",
            "61/61 [==============================] - 12s 196ms/step - loss: 0.0032\n",
            "Epoch 5/100\n",
            "61/61 [==============================] - 12s 195ms/step - loss: 0.0032\n",
            "Epoch 6/100\n",
            "61/61 [==============================] - 13s 209ms/step - loss: 0.0032\n",
            "Epoch 7/100\n",
            "61/61 [==============================] - 14s 225ms/step - loss: 0.0030\n",
            "Epoch 8/100\n",
            "61/61 [==============================] - 12s 204ms/step - loss: 0.0029\n",
            "Epoch 9/100\n",
            "61/61 [==============================] - 12s 198ms/step - loss: 0.0030\n",
            "Epoch 10/100\n",
            "61/61 [==============================] - 11s 179ms/step - loss: 0.0031\n",
            "Epoch 11/100\n",
            "61/61 [==============================] - 13s 218ms/step - loss: 0.0026\n",
            "Epoch 12/100\n",
            "61/61 [==============================] - 12s 187ms/step - loss: 0.0027\n",
            "Epoch 13/100\n",
            "61/61 [==============================] - 12s 198ms/step - loss: 0.0027\n",
            "Epoch 14/100\n",
            "61/61 [==============================] - 12s 196ms/step - loss: 0.0024\n",
            "Epoch 15/100\n",
            "61/61 [==============================] - 12s 197ms/step - loss: 0.0024\n",
            "Epoch 16/100\n",
            "61/61 [==============================] - 12s 195ms/step - loss: 0.0022\n",
            "Epoch 17/100\n",
            "61/61 [==============================] - 12s 197ms/step - loss: 0.0027\n",
            "Epoch 18/100\n",
            "61/61 [==============================] - 12s 196ms/step - loss: 0.0021\n",
            "Epoch 19/100\n",
            "61/61 [==============================] - 12s 200ms/step - loss: 0.0021\n",
            "Epoch 20/100\n",
            "61/61 [==============================] - 12s 196ms/step - loss: 0.0021\n",
            "Epoch 21/100\n",
            "61/61 [==============================] - 12s 194ms/step - loss: 0.0019\n",
            "Epoch 22/100\n",
            "61/61 [==============================] - 11s 180ms/step - loss: 0.0018\n",
            "Epoch 23/100\n",
            "61/61 [==============================] - 12s 188ms/step - loss: 0.0021\n",
            "Epoch 24/100\n",
            "61/61 [==============================] - 12s 195ms/step - loss: 0.0018\n",
            "Epoch 25/100\n",
            "61/61 [==============================] - 13s 219ms/step - loss: 0.0022\n",
            "Epoch 26/100\n",
            "61/61 [==============================] - 12s 198ms/step - loss: 0.0018\n",
            "Epoch 27/100\n",
            "61/61 [==============================] - 12s 196ms/step - loss: 0.0021\n",
            "Epoch 28/100\n",
            "61/61 [==============================] - 12s 196ms/step - loss: 0.0018\n",
            "Epoch 29/100\n",
            "61/61 [==============================] - 12s 197ms/step - loss: 0.0016\n",
            "Epoch 30/100\n",
            "61/61 [==============================] - 12s 196ms/step - loss: 0.0021\n",
            "Epoch 31/100\n",
            "61/61 [==============================] - 12s 196ms/step - loss: 0.0019\n",
            "Epoch 32/100\n",
            "61/61 [==============================] - 12s 198ms/step - loss: 0.0019\n",
            "Epoch 33/100\n",
            "61/61 [==============================] - 12s 197ms/step - loss: 0.0017\n",
            "Epoch 34/100\n",
            "61/61 [==============================] - 11s 186ms/step - loss: 0.0018\n",
            "Epoch 35/100\n",
            "61/61 [==============================] - 11s 180ms/step - loss: 0.0016\n",
            "Epoch 36/100\n",
            "61/61 [==============================] - 12s 195ms/step - loss: 0.0016\n",
            "Epoch 37/100\n",
            "61/61 [==============================] - 12s 199ms/step - loss: 0.0016\n",
            "Epoch 38/100\n",
            "61/61 [==============================] - 12s 197ms/step - loss: 0.0014\n",
            "Epoch 39/100\n",
            "61/61 [==============================] - 13s 220ms/step - loss: 0.0015\n",
            "Epoch 40/100\n",
            "61/61 [==============================] - 12s 196ms/step - loss: 0.0014\n",
            "Epoch 41/100\n",
            "61/61 [==============================] - 12s 196ms/step - loss: 0.0017\n",
            "Epoch 42/100\n",
            "61/61 [==============================] - 12s 196ms/step - loss: 0.0016\n",
            "Epoch 43/100\n",
            "61/61 [==============================] - 12s 199ms/step - loss: 0.0015\n",
            "Epoch 44/100\n",
            "61/61 [==============================] - 12s 199ms/step - loss: 0.0015\n",
            "Epoch 45/100\n",
            "61/61 [==============================] - 12s 196ms/step - loss: 0.0014\n",
            "Epoch 46/100\n",
            "61/61 [==============================] - 12s 191ms/step - loss: 0.0014\n",
            "Epoch 47/100\n",
            "61/61 [==============================] - 11s 183ms/step - loss: 0.0017\n",
            "Epoch 48/100\n",
            "61/61 [==============================] - 12s 189ms/step - loss: 0.0014\n",
            "Epoch 49/100\n",
            "61/61 [==============================] - 12s 196ms/step - loss: 0.0014\n",
            "Epoch 50/100\n",
            "61/61 [==============================] - 12s 197ms/step - loss: 0.0013\n",
            "Epoch 51/100\n",
            "61/61 [==============================] - 12s 196ms/step - loss: 0.0014\n",
            "Epoch 52/100\n",
            "61/61 [==============================] - 12s 197ms/step - loss: 0.0014\n",
            "Epoch 53/100\n",
            "61/61 [==============================] - 12s 197ms/step - loss: 0.0013\n",
            "Epoch 54/100\n",
            "61/61 [==============================] - 13s 220ms/step - loss: 0.0012\n",
            "Epoch 55/100\n",
            "61/61 [==============================] - 12s 196ms/step - loss: 0.0014\n",
            "Epoch 56/100\n",
            "61/61 [==============================] - 14s 227ms/step - loss: 0.0014\n",
            "Epoch 57/100\n",
            "61/61 [==============================] - 13s 217ms/step - loss: 0.0014\n",
            "Epoch 58/100\n",
            "61/61 [==============================] - 12s 189ms/step - loss: 0.0013\n",
            "Epoch 59/100\n",
            "61/61 [==============================] - 14s 232ms/step - loss: 0.0014\n",
            "Epoch 60/100\n",
            "61/61 [==============================] - 17s 269ms/step - loss: 0.0012\n",
            "Epoch 61/100\n",
            "61/61 [==============================] - 21s 338ms/step - loss: 0.0012\n",
            "Epoch 62/100\n",
            "61/61 [==============================] - 17s 277ms/step - loss: 0.0013\n",
            "Epoch 63/100\n",
            "61/61 [==============================] - 19s 319ms/step - loss: 0.0012\n",
            "Epoch 64/100\n",
            "61/61 [==============================] - 13s 206ms/step - loss: 0.0013\n",
            "Epoch 65/100\n",
            "61/61 [==============================] - 21s 347ms/step - loss: 0.0012\n",
            "Epoch 66/100\n",
            "61/61 [==============================] - 17s 283ms/step - loss: 0.0016\n",
            "Epoch 67/100\n",
            "61/61 [==============================] - 16s 256ms/step - loss: 0.0014\n",
            "Epoch 68/100\n",
            "61/61 [==============================] - 16s 260ms/step - loss: 0.0013\n",
            "Epoch 69/100\n",
            "61/61 [==============================] - 14s 234ms/step - loss: 0.0013\n",
            "Epoch 70/100\n",
            "61/61 [==============================] - 20s 321ms/step - loss: 0.0012\n",
            "Epoch 71/100\n",
            "61/61 [==============================] - 13s 208ms/step - loss: 0.0011\n",
            "Epoch 72/100\n",
            "61/61 [==============================] - 13s 213ms/step - loss: 0.0012\n",
            "Epoch 73/100\n",
            "61/61 [==============================] - 21s 352ms/step - loss: 0.0011\n",
            "Epoch 74/100\n",
            "61/61 [==============================] - 15s 234ms/step - loss: 0.0012\n",
            "Epoch 75/100\n",
            "61/61 [==============================] - 14s 226ms/step - loss: 0.0012\n",
            "Epoch 76/100\n",
            "61/61 [==============================] - 18s 281ms/step - loss: 0.0011\n",
            "Epoch 77/100\n",
            "61/61 [==============================] - 18s 291ms/step - loss: 0.0012\n",
            "Epoch 78/100\n",
            "61/61 [==============================] - 16s 268ms/step - loss: 0.0012\n",
            "Epoch 79/100\n",
            "61/61 [==============================] - 12s 203ms/step - loss: 0.0012\n",
            "Epoch 80/100\n",
            "61/61 [==============================] - 22s 367ms/step - loss: 0.0011\n",
            "Epoch 81/100\n",
            "61/61 [==============================] - 20s 324ms/step - loss: 0.0011\n",
            "Epoch 82/100\n",
            "61/61 [==============================] - 20s 318ms/step - loss: 0.0011\n",
            "Epoch 83/100\n",
            "61/61 [==============================] - 15s 239ms/step - loss: 0.0011\n",
            "Epoch 84/100\n",
            "61/61 [==============================] - 14s 225ms/step - loss: 0.0011\n",
            "Epoch 85/100\n",
            "61/61 [==============================] - 18s 295ms/step - loss: 0.0011\n",
            "Epoch 86/100\n",
            "61/61 [==============================] - 18s 289ms/step - loss: 0.0011\n",
            "Epoch 87/100\n",
            "61/61 [==============================] - 19s 315ms/step - loss: 0.0011\n",
            "Epoch 88/100\n",
            "61/61 [==============================] - 19s 305ms/step - loss: 0.0012\n",
            "Epoch 89/100\n",
            "61/61 [==============================] - 15s 245ms/step - loss: 0.0010\n",
            "Epoch 90/100\n",
            "61/61 [==============================] - 19s 307ms/step - loss: 0.0012\n",
            "Epoch 91/100\n",
            "61/61 [==============================] - 17s 271ms/step - loss: 0.0011\n",
            "Epoch 92/100\n",
            "61/61 [==============================] - 18s 289ms/step - loss: 0.0011\n",
            "Epoch 93/100\n",
            "61/61 [==============================] - 19s 307ms/step - loss: 0.0010\n",
            "Epoch 94/100\n",
            "61/61 [==============================] - 14s 231ms/step - loss: 0.0011\n",
            "Epoch 95/100\n",
            "61/61 [==============================] - 13s 222ms/step - loss: 0.0012\n",
            "Epoch 96/100\n",
            "61/61 [==============================] - 12s 198ms/step - loss: 0.0011\n",
            "Epoch 97/100\n",
            "61/61 [==============================] - 17s 275ms/step - loss: 0.0011\n",
            "Epoch 98/100\n",
            "61/61 [==============================] - 15s 238ms/step - loss: 0.0010\n",
            "Epoch 99/100\n",
            "61/61 [==============================] - 18s 293ms/step - loss: 0.0012\n",
            "Epoch 100/100\n",
            "61/61 [==============================] - 16s 268ms/step - loss: 0.0011\n"
          ]
        },
        {
          "output_type": "execute_result",
          "data": {
            "text/plain": [
              "<keras.src.callbacks.History at 0x79024b72d990>"
            ]
          },
          "metadata": {},
          "execution_count": 26
        }
      ]
    },
    {
      "cell_type": "markdown",
      "source": [
        "# Making Predictions\n"
      ],
      "metadata": {
        "id": "uvkW0o1Beh8U"
      }
    },
    {
      "cell_type": "code",
      "source": [
        "test_data = pd.read_csv('/content/test_set.csv')\n",
        "test_data.shape"
      ],
      "metadata": {
        "colab": {
          "base_uri": "https://localhost:8080/"
        },
        "id": "08yK3yMWenLv",
        "outputId": "b4eb3c72-170c-4306-8251-288ed11e8050"
      },
      "execution_count": null,
      "outputs": [
        {
          "output_type": "execute_result",
          "data": {
            "text/plain": [
              "(20, 7)"
            ]
          },
          "metadata": {},
          "execution_count": 27
        }
      ]
    },
    {
      "cell_type": "code",
      "source": [
        "test_data.info()"
      ],
      "metadata": {
        "colab": {
          "base_uri": "https://localhost:8080/"
        },
        "id": "m-Vjj3G-exCd",
        "outputId": "7e045abe-e0cd-4c2c-b116-2131e1df7390"
      },
      "execution_count": null,
      "outputs": [
        {
          "output_type": "stream",
          "name": "stdout",
          "text": [
            "<class 'pandas.core.frame.DataFrame'>\n",
            "RangeIndex: 20 entries, 0 to 19\n",
            "Data columns (total 7 columns):\n",
            " #   Column     Non-Null Count  Dtype  \n",
            "---  ------     --------------  -----  \n",
            " 0   Date       20 non-null     object \n",
            " 1   Open       20 non-null     float64\n",
            " 2   High       20 non-null     float64\n",
            " 3   Low        20 non-null     float64\n",
            " 4   Close      20 non-null     float64\n",
            " 5   Adj Close  20 non-null     float64\n",
            " 6   Volume     20 non-null     int64  \n",
            "dtypes: float64(5), int64(1), object(1)\n",
            "memory usage: 1.2+ KB\n"
          ]
        }
      ]
    },
    {
      "cell_type": "code",
      "source": [
        "real_stock_price = test_data.iloc[:, 1:2].values\n"
      ],
      "metadata": {
        "id": "noymD7sme7tL"
      },
      "execution_count": null,
      "outputs": []
    },
    {
      "cell_type": "code",
      "source": [
        "real_stock_price.shape"
      ],
      "metadata": {
        "colab": {
          "base_uri": "https://localhost:8080/"
        },
        "id": "J_ksl_4-fNEF",
        "outputId": "b6c49dd0-658c-448a-bc53-6071bdcff102"
      },
      "execution_count": null,
      "outputs": [
        {
          "output_type": "execute_result",
          "data": {
            "text/plain": [
              "(20, 1)"
            ]
          },
          "metadata": {},
          "execution_count": 30
        }
      ]
    },
    {
      "cell_type": "code",
      "source": [
        "dataset_total = pd.concat((training_data['Open'],test_data['Open']), axis = 0)\n"
      ],
      "metadata": {
        "id": "ohPMj3zbfXXc"
      },
      "execution_count": null,
      "outputs": []
    },
    {
      "cell_type": "code",
      "source": [
        "inputs = dataset_total[len(dataset_total)- len(real_stock_price)-60:].values"
      ],
      "metadata": {
        "id": "9cVYqyJTfxII"
      },
      "execution_count": null,
      "outputs": []
    },
    {
      "cell_type": "code",
      "source": [
        "inputs = inputs.reshape(-1,1)"
      ],
      "metadata": {
        "id": "CrvUHIYvgILf"
      },
      "execution_count": null,
      "outputs": []
    },
    {
      "cell_type": "code",
      "source": [
        "inputs"
      ],
      "metadata": {
        "id": "YSDJSWEPgaPi"
      },
      "execution_count": null,
      "outputs": []
    },
    {
      "cell_type": "code",
      "source": [
        "inputs = sc.transform(inputs)"
      ],
      "metadata": {
        "id": "uio79RQ1gQgR"
      },
      "execution_count": null,
      "outputs": []
    },
    {
      "cell_type": "code",
      "source": [
        "inputs"
      ],
      "metadata": {
        "id": "y5NaLSCEgdJc"
      },
      "execution_count": null,
      "outputs": []
    },
    {
      "cell_type": "code",
      "source": [
        "x_test =[]\n",
        "for i in range(60,80):\n",
        "  x_test.append(inputs[i-60:i,0])\n",
        "\n",
        "x_test = np.array(x_test)\n"
      ],
      "metadata": {
        "id": "Tt3b3XH0gfrz"
      },
      "execution_count": null,
      "outputs": []
    },
    {
      "cell_type": "code",
      "source": [
        "#convert in 3d since RNN in 3d\n",
        "x_test = np.reshape(x_test, (x_test.shape[0], x_test.shape[1], 1))"
      ],
      "metadata": {
        "id": "UDSydsgyhBak"
      },
      "execution_count": null,
      "outputs": []
    },
    {
      "cell_type": "code",
      "source": [
        "predicted_stock_price = model.predict(x_test)\n"
      ],
      "metadata": {
        "colab": {
          "base_uri": "https://localhost:8080/"
        },
        "id": "poxn3vBShjaV",
        "outputId": "559cdff7-137c-4890-c82b-2cbd00e84fe4"
      },
      "execution_count": null,
      "outputs": [
        {
          "output_type": "stream",
          "name": "stdout",
          "text": [
            "1/1 [==============================] - 1s 633ms/step\n"
          ]
        }
      ]
    },
    {
      "cell_type": "code",
      "source": [
        "predicted_stock_price = sc.inverse_transform(predicted_stock_price)"
      ],
      "metadata": {
        "id": "F-U9p1NlhtXG"
      },
      "execution_count": null,
      "outputs": []
    },
    {
      "cell_type": "code",
      "source": [
        "print(predicted_stock_price)\n"
      ],
      "metadata": {
        "id": "1SQADYDxi3ei"
      },
      "execution_count": null,
      "outputs": []
    },
    {
      "cell_type": "code",
      "source": [
        "print(real_stock_price)"
      ],
      "metadata": {
        "id": "iMARVRS6jFlK"
      },
      "execution_count": null,
      "outputs": []
    },
    {
      "cell_type": "code",
      "source": [
        "plt.plot(real_stock_price, color = 'r', label = 'Apple Real Stock Price')\n",
        "plt.plot(predicted_stock_price, color='b', label ='Predicted Apple Stock Price')\n",
        "plt.xlabel('time')\n",
        "plt.ylabel('Price')\n",
        "plt.title(\"Apple Stock Price Prediction\")\n",
        "plt.legend(loc = 'upper right')\n",
        "plt.show()\n"
      ],
      "metadata": {
        "colab": {
          "base_uri": "https://localhost:8080/",
          "height": 472
        },
        "id": "ZBYNvScUjGZM",
        "outputId": "45807121-5a7f-450f-b2c7-3e23695f1fc4"
      },
      "execution_count": null,
      "outputs": [
        {
          "output_type": "display_data",
          "data": {
            "text/plain": [
              "<Figure size 640x480 with 1 Axes>"
            ],
            "image/png": "[encoded data removed]"
          },
          "metadata": {}
        }
      ]
    },
    {
      "cell_type": "code",
      "source": [],
      "metadata": {
        "id": "825LSUVTj3dX"
      },
      "execution_count": null,
      "outputs": []
    }
  ]
}